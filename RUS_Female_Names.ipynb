{
  "nbformat": 4,
  "nbformat_minor": 0,
  "metadata": {
    "colab": {
      "provenance": []
    },
    "kernelspec": {
      "name": "python3",
      "display_name": "Python 3"
    },
    "language_info": {
      "name": "python"
    }
  },
  "cells": [
    {
      "cell_type": "code",
      "execution_count": 50,
      "metadata": {
        "id": "sHNXu4ngNVPj"
      },
      "outputs": [],
      "source": [
        "import torch # to import the PyTorch library\n",
        "import torch.nn.functional as F # to import the functional interface of PyTorch's neural network library\n",
        "import matplotlib.pyplot as plt # module for creating plots\n",
        "%matplotlib inline"
      ]
    },
    {
      "cell_type": "code",
      "source": [
        "# download the file names.txt file from github:\n",
        "\n",
        "!wget https://raw.githubusercontent.com/Raven-SL/ru-pnames-list/master/lists/female_names_rus.txt"
      ],
      "metadata": {
        "colab": {
          "base_uri": "https://localhost:8080/"
        },
        "id": "_UiMvUYUNXxp",
        "outputId": "4afc4c26-b86a-439f-e16c-34e7faef02c0"
      },
      "execution_count": null,
      "outputs": [
        {
          "output_type": "stream",
          "name": "stdout",
          "text": [
            "--2024-03-02 12:49:10--  https://raw.githubusercontent.com/Raven-SL/ru-pnames-list/master/lists/female_names_rus.txt\n",
            "Resolving raw.githubusercontent.com (raw.githubusercontent.com)... 185.199.110.133, 185.199.111.133, 185.199.108.133, ...\n",
            "Connecting to raw.githubusercontent.com (raw.githubusercontent.com)|185.199.110.133|:443... connected.\n",
            "HTTP request sent, awaiting response... 200 OK\n",
            "Length: 13358 (13K) [text/plain]\n",
            "Saving to: ‘female_names_rus.txt’\n",
            "\n",
            "female_names_rus.tx 100%[===================>]  13.04K  --.-KB/s    in 0.002s  \n",
            "\n",
            "2024-03-02 12:49:10 (5.84 MB/s) - ‘female_names_rus.txt’ saved [13358/13358]\n",
            "\n"
          ]
        }
      ]
    },
    {
      "cell_type": "markdown",
      "source": [
        "# a. Capitalized\n",
        "In this part of code, the vocabulary is created according to the dataset, where all the names start with uppercase character, followed by lowercase to train the model, avaluate its performance and generate new words."
      ],
      "metadata": {
        "id": "HTfPGwVCNelK"
      }
    },
    {
      "cell_type": "code",
      "source": [
        "# to read and split the python string into list of words\n",
        "words = open('female_names_rus.txt', 'r').read().splitlines()\n",
        "\n",
        "# print out first 8 words\n",
        "words[:8]"
      ],
      "metadata": {
        "colab": {
          "base_uri": "https://localhost:8080/"
        },
        "id": "C-PovUG3NatA",
        "outputId": "7410a97f-88e2-45cc-9fa0-135b703b50fc"
      },
      "execution_count": 52,
      "outputs": [
        {
          "output_type": "execute_result",
          "data": {
            "text/plain": [
              "['Августа',\n",
              " 'Августина',\n",
              " 'Авдотья',\n",
              " 'Аврелия',\n",
              " 'Аврея',\n",
              " 'Аврора',\n",
              " 'Агапа',\n",
              " 'Агапия']"
            ]
          },
          "metadata": {},
          "execution_count": 52
        }
      ]
    },
    {
      "cell_type": "code",
      "source": [
        "# the total number of words in dataset\n",
        "len(words)"
      ],
      "metadata": {
        "colab": {
          "base_uri": "https://localhost:8080/"
        },
        "id": "dWlF1erwNijO",
        "outputId": "2ae1a50a-5c1d-45dd-f3de-92bde33d26d8"
      },
      "execution_count": 53,
      "outputs": [
        {
          "output_type": "execute_result",
          "data": {
            "text/plain": [
              "938"
            ]
          },
          "metadata": {},
          "execution_count": 53
        }
      ]
    },
    {
      "cell_type": "code",
      "source": [
        "# to build the vocabulary of characters, uppercase and lowercase, as string to integers and viceversa:\n",
        "# to combine all words into a single string, removes duplicates, sorts the characters, and stores them in the chars variable\n",
        "chars = sorted(list(set(''.join(words))))\n",
        "# to create a dictionary mapping characters to integer indices\n",
        "stoi = {s:i+1 for i,s in enumerate(chars)}\n",
        "# to add the 'dot' character as index 0 in the dictionary\n",
        "stoi['.'] = 0\n",
        "# to create a dictionary mapping integer indices back to characters\n",
        "itos = {i:s for s,i in stoi.items()}\n",
        "\n",
        "# to print the total number of the characters in vocalubary\n",
        "len(itos)"
      ],
      "metadata": {
        "colab": {
          "base_uri": "https://localhost:8080/"
        },
        "id": "7jduSiEDNksb",
        "outputId": "da7335d0-def0-4042-b37c-fc5a8946951a"
      },
      "execution_count": 54,
      "outputs": [
        {
          "output_type": "execute_result",
          "data": {
            "text/plain": [
              "59"
            ]
          },
          "metadata": {},
          "execution_count": 54
        }
      ]
    },
    {
      "cell_type": "code",
      "source": [
        "# to build the dataset:\n",
        "\n",
        "# to define the context window: the number of characters to take to predict the next character\n",
        "block_size = 3\n",
        "\n",
        "# to define a function 'build_dataset' that takes a list of words as input\n",
        "def build_dataset(words):\n",
        "\n",
        "  # to start empty lists 'X' and 'Y' to store INPUT pairs\n",
        "  # 'X' is the INPUT into neural network, 'Y' is Label for each 'X'\n",
        "  X, Y = [], []\n",
        "\n",
        "  # to iterate through each word in the INPUT list words\n",
        "  for w in words:\n",
        "    # to start a padded context of 0 tokens with length equal to the block_size\n",
        "    context = [0] * block_size\n",
        "\n",
        "    # to iterate through each character in the word concatenated with a period (.) indicating the end of the word\n",
        "    for ch in w + '.': # iterate over all the characters\n",
        "\n",
        "      # to retrieves the index of the current character 'ch' from a dictionary 'stoi' that maps characters to their corresponding indices\n",
        "      # to get the characters in a sequence\n",
        "      ix = stoi[ch]\n",
        "\n",
        "      # to append the current context to the input list X\n",
        "      X.append(context)\n",
        "      # to append the index of the next character to the label list Y\n",
        "      Y.append(ix)\n",
        "      # to update the context by removing the first element and adding the index of the current character to the end,\n",
        "      # to create a rolling window of contexts\n",
        "      context = context[1:] + [ix]\n",
        "\n",
        "  # to convert the input list X into a PyTorch tensor\n",
        "  X = torch.tensor(X)\n",
        "  # to converts the input list Y into a PyTorch tensor\n",
        "  Y = torch.tensor(Y)\n",
        "\n",
        "  # to prints the shapes of X and Y tensors\n",
        "  print(X.shape, Y.shape)\n",
        "  # to return X and Y tensor as the output of the 'build_dataset' function\n",
        "  return X, Y\n",
        "\n",
        "# to import the 'random' module\n",
        "import random\n",
        "# to set the random seed to 42 for reproducibility\n",
        "random.seed(42)\n",
        "# to shuffle the list of words randomly\n",
        "random.shuffle(words)\n",
        "\n",
        "# to calculate the index n1, which corresponds to 80% of the total number of words\n",
        "n1 = int(0.8*len(words))\n",
        "# to calculate the index n2, which corresponds to 90% of the total number of words\n",
        "n2 = int(0.9*len(words))\n",
        "\n",
        "# to build the TRAINING dataset (Xtr, Ytr) using the first 80% of the shuffled words (n1)\n",
        "Xtr, Ytr = build_dataset(words[:n1])\n",
        "\n",
        "# to build the VALIDATION dataset (Xdev, Ydev) using the next 10% of the shuffled words (n2 - n1)\n",
        "Xdev, Ydev = build_dataset(words[n1:n2])\n",
        "\n",
        "# to bugild the TEST dataset (Xte, Yte) using the remaining 10% of the shuffled words (100% - n2)\n",
        "Xte, Yte = build_dataset(words[n2:])"
      ],
      "metadata": {
        "colab": {
          "base_uri": "https://localhost:8080/"
        },
        "id": "F6QfZlcLNqKT",
        "outputId": "caeb7b7d-01e3-4545-d56e-0257ec2e30c4"
      },
      "execution_count": null,
      "outputs": [
        {
          "output_type": "stream",
          "name": "stdout",
          "text": [
            "torch.Size([5752, 3]) torch.Size([5752])\n",
            "torch.Size([718, 3]) torch.Size([718])\n",
            "torch.Size([678, 3]) torch.Size([678])\n"
          ]
        }
      ]
    },
    {
      "cell_type": "code",
      "source": [
        "# to initialize parameters for a neural network model:\n",
        "\n",
        "# to create a random number generator for reproducibility\n",
        "g = torch.Generator().manual_seed(2147483647)\n",
        "\n",
        "# to build an INPUT layer, a random tensor C with dimensions (59, 10), where 59 is number of rows (characters in vocabulary) represented by a 10-dim embedding\n",
        "C = torch.randn((59, 10), generator=g)\n",
        "\n",
        "# to buld a second layer of random weight matrix W1 with dimensions (30, 200), where 30 neurons are in the HIDDEN layer,\n",
        "# and each neuron has 200 connections coming from the INPUT layer\n",
        "W1 = torch.randn((30, 200), generator=g)\n",
        "\n",
        "# to build random bias vector b1 with 200 elements associated with  200 neurons in the HIDDEN layer\n",
        "b1 = torch.randn(200, generator=g)\n",
        "\n",
        "# to build a randon weight matrix W2 with dimensions (200, 59) that connecting the HIDDEN layer to the OUTPUT layer\n",
        "W2 = torch.randn((200, 59), generator=g)\n",
        "\n",
        "# to build a random bias vector b2 with 59 elements associated with  59 neurons in the OUTPUT layer\n",
        "b2 = torch.randn(59, generator=g)\n",
        "\n",
        "# to collect all the parameters of the neural network model\n",
        "parameters = [C, W1, b1, W2, b2]"
      ],
      "metadata": {
        "id": "bmeQua89OBCw"
      },
      "execution_count": null,
      "outputs": []
    },
    {
      "cell_type": "code",
      "source": [
        "# number of parameters in total\n",
        "sum(p.nelement() for p in parameters)"
      ],
      "metadata": {
        "colab": {
          "base_uri": "https://localhost:8080/"
        },
        "id": "XjHZTtB9OQTu",
        "outputId": "8349edb1-d006-4ac6-eec2-635f814d7839"
      },
      "execution_count": null,
      "outputs": [
        {
          "output_type": "execute_result",
          "data": {
            "text/plain": [
              "18649"
            ]
          },
          "metadata": {},
          "execution_count": 8
        }
      ]
    },
    {
      "cell_type": "code",
      "source": [
        "# the loop that iterates over all parameters (C, W1, b1, W2, b2) and sets 'requires_grad' attribute to True.\n",
        "# to indicate that gradients should be computed for these parameters during backpropagation\n",
        "for p in parameters:\n",
        "  p.requires_grad = True"
      ],
      "metadata": {
        "id": "P66qZjO0OSi9"
      },
      "execution_count": null,
      "outputs": []
    },
    {
      "cell_type": "code",
      "source": [
        "# to initialize a learning rate\n",
        "lre = torch.linspace(-3, 0, 1000)\n",
        "lrs = 10**lre"
      ],
      "metadata": {
        "id": "nYLgLuP4OVDo"
      },
      "execution_count": null,
      "outputs": []
    },
    {
      "cell_type": "code",
      "source": [
        "# to create lists to track learning rate, loss, and step (iteration) during the model training\n",
        "lri = []\n",
        "lossi = []\n",
        "stepi = []"
      ],
      "metadata": {
        "id": "pPx7Vt3WOXdo"
      },
      "execution_count": null,
      "outputs": []
    },
    {
      "cell_type": "code",
      "source": [
        "# to train the model:\n",
        "\n",
        "for i in range(200000): # the loop that iterates over 200k training iterations\n",
        "\n",
        "  # to select randomly 32 indices from the training data (Xtr) for creating a minibatch\n",
        "  ix = torch.randint(0, Xtr.shape[0], (32,))\n",
        "\n",
        "  # forward pass:\n",
        "  # to look up embeddings from the matrix C based on the randomly selected indices from the training data (Xtr)\n",
        "  # to create a tensor of shape (32, 3, 2)\n",
        "  emb = C[Xtr[ix]] # (32, 3, 2)\n",
        "\n",
        "  # to compute the HIDDEN layer activations using the embeddings, weight matrix W1, and bias vector b1\n",
        "  # to appliy the tanh function\n",
        "  h = torch.tanh(emb.view(-1, 30) @ W1 + b1) # (32, 100)\n",
        "\n",
        "  # to compute the logits (output of the neural network before applying softmax)\n",
        "  # to multiply the HIDDEN layer with weight W2 and adding bias b2\n",
        "  logits = h @ W2 + b2 # (32, 59)\n",
        "\n",
        "  # to compute the cross-entropy loss between the predicted logits and the true labels (Ytr)\n",
        "  # it uses built-in cross_entropy function\n",
        "  loss = F.cross_entropy(logits, Ytr[ix])\n",
        "\n",
        "  # backward pass:\n",
        "  # the loop resets the gradients of all parameters to None before computing gradients for the current minibatch\n",
        "  for p in parameters:\n",
        "    p.grad = None\n",
        "\n",
        "  # to compute gradients of the loss using backpropagation\n",
        "  loss.backward()\n",
        "\n",
        "  # to adjust the learning rate setting the higher lr of 0.1 for the first 100k iterations\n",
        "  # and lower lr of 0.01 for the remaining iterations\n",
        "  lr = 0.1 if i < 100000 else 0.01\n",
        "\n",
        "  # the loop to update parameters with gradients and the learning rate\n",
        "  for p in parameters:\n",
        "    p.data += -lr * p.grad\n",
        "\n",
        "  # track stats\n",
        "  # to append the current iteration number to the list 'stepi'\n",
        "  stepi.append(i)\n",
        "\n",
        "  # to append the logarithm (base 10) of the loss to the list 'lossi'\n",
        "  lossi.append(loss.log10().item())"
      ],
      "metadata": {
        "id": "3aIuEMe4OZih"
      },
      "execution_count": null,
      "outputs": []
    },
    {
      "cell_type": "code",
      "source": [
        "# to print out the loss value obtained after the last training iteration (how well the model works)\n",
        "print(loss.item())"
      ],
      "metadata": {
        "colab": {
          "base_uri": "https://localhost:8080/"
        },
        "id": "EgdIIjAIOcll",
        "outputId": "40d75e41-34b8-4b3b-f25b-930768fe1b6e"
      },
      "execution_count": null,
      "outputs": [
        {
          "output_type": "stream",
          "name": "stdout",
          "text": [
            "0.9037697315216064\n"
          ]
        }
      ]
    },
    {
      "cell_type": "code",
      "source": [
        "# to plot the training loss over the course of training\n",
        "# where 'stepi' is the iteration numbers and 'lossi' is the corresponding loss values\n",
        "plt.plot(stepi, lossi)"
      ],
      "metadata": {
        "colab": {
          "base_uri": "https://localhost:8080/",
          "height": 448
        },
        "id": "mM_u0zzhOo1l",
        "outputId": "b6937da0-112d-4627-bf10-24ae6ecfd1ca"
      },
      "execution_count": null,
      "outputs": [
        {
          "output_type": "execute_result",
          "data": {
            "text/plain": [
              "[<matplotlib.lines.Line2D at 0x7fecc4880df0>]"
            ]
          },
          "metadata": {},
          "execution_count": 14
        },
        {
          "output_type": "display_data",
          "data": {
            "text/plain": [
              "<Figure size 640x480 with 1 Axes>"
            ],
            "image/png": "[encoded data removed]"
          },
          "metadata": {}
        }
      ]
    },
    {
      "cell_type": "code",
      "source": [
        "# training loss\n",
        "# to calculate ther trainnig loss by retrieving the embeddings for the training examples (Xtr) from the embedding matrix C\n",
        "emb = C[Xtr] # (32, 3, 2)\n",
        "h = torch.tanh(emb.view(-1, 30) @ W1 + b1) # (32, 100)\n",
        "logits = h @ W2 + b2 # (32, 59)\n",
        "# to calculate cross-enthropy loss between the predicted logits and the labels (Ytr)\n",
        "loss = F.cross_entropy(logits, Ytr)\n",
        "# to print put the results\n",
        "loss"
      ],
      "metadata": {
        "colab": {
          "base_uri": "https://localhost:8080/"
        },
        "id": "PzDBv1FvOqn2",
        "outputId": "587f8ae1-9ca3-446a-ae1e-59062a003930"
      },
      "execution_count": null,
      "outputs": [
        {
          "output_type": "execute_result",
          "data": {
            "text/plain": [
              "tensor(1.0590, grad_fn=<NllLossBackward0>)"
            ]
          },
          "metadata": {},
          "execution_count": 15
        }
      ]
    },
    {
      "cell_type": "code",
      "source": [
        "# validation loss\n",
        "# to calculate the validation loss using the same process as the training loss but with the validation dataset (Xdev, Ydev)\n",
        "emb = C[Xdev] # (32, 3, 2)\n",
        "h = torch.tanh(emb.view(-1, 30) @ W1 + b1) # (32, 100)\n",
        "logits = h @ W2 + b2 # (32, 59)\n",
        "loss = F.cross_entropy(logits, Ydev)\n",
        "# to print put the results\n",
        "loss"
      ],
      "metadata": {
        "colab": {
          "base_uri": "https://localhost:8080/"
        },
        "id": "ks-QKL2DOtD6",
        "outputId": "70e19b4e-f538-48e3-835f-cf3a8a96ae85"
      },
      "execution_count": null,
      "outputs": [
        {
          "output_type": "execute_result",
          "data": {
            "text/plain": [
              "tensor(4.0987, grad_fn=<NllLossBackward0>)"
            ]
          },
          "metadata": {},
          "execution_count": 16
        }
      ]
    },
    {
      "cell_type": "code",
      "source": [
        "# test loss\n",
        "# to calculate the test loss with the test dataset (Xte, Yte)\n",
        "emb = C[Xte] # (32, 3, 2)\n",
        "h = torch.tanh(emb.view(-1, 30) @ W1 + b1) # (32, 100)\n",
        "logits = h @ W2 + b2 # (32, 59)\n",
        "loss = F.cross_entropy(logits, Yte)\n",
        "# to print put the results\n",
        "loss"
      ],
      "metadata": {
        "colab": {
          "base_uri": "https://localhost:8080/"
        },
        "id": "f0S3S2GXOvcs",
        "outputId": "92c96552-fb6f-46bf-f79e-a9c3be0dde0f"
      },
      "execution_count": null,
      "outputs": [
        {
          "output_type": "execute_result",
          "data": {
            "text/plain": [
              "tensor(4.2380, grad_fn=<NllLossBackward0>)"
            ]
          },
          "metadata": {},
          "execution_count": 17
        }
      ]
    },
    {
      "cell_type": "code",
      "source": [
        "# visualize dimensions 0 and 1 of the embedding matrix C for all characters\n",
        "plt.figure(figsize=(8,8)) # to create a new figure for the plot with size of 8x8 inches\n",
        "\n",
        "# to creates a scatter plot using the first and second dimensions of the embedding matrix C\n",
        "# where point in the scatter plot represents the embedding of a character\n",
        "# the s = 200 argument sets the size of each point to 200\n",
        "plt.scatter(C[:,0].data, C[:,1].data, s = 200)\n",
        "\n",
        "# the loop that iterates over each character embedding in the embedding matrix C\n",
        "for i in range(C.shape[0]):\n",
        "\n",
        "    # the annotatins to the scatter plot at the position of each character's embedding\n",
        "    plt.text(C[i,0].item(), C[i,1].item(), itos[i], ha=\"center\", va=\"center\", color='white')\n",
        "\n",
        "# to add a minor grid to the plot\n",
        "plt.grid('minor')"
      ],
      "metadata": {
        "colab": {
          "base_uri": "https://localhost:8080/",
          "height": 676
        },
        "id": "V3Tt924UOxvD",
        "outputId": "5809229d-52ab-4c98-9a66-76775b61c8be"
      },
      "execution_count": null,
      "outputs": [
        {
          "output_type": "display_data",
          "data": {
            "text/plain": [
              "<Figure size 800x800 with 1 Axes>"
            ],
            "image/png": "[encoded data removed]"
          },
          "metadata": {}
        }
      ]
    },
    {
      "cell_type": "code",
      "source": [
        "# Let's sample from the model:\n",
        "\n",
        "# to create a new random number generator with a specific seed (2147483647 + 10)\n",
        "# it will be used to ensure reproducibility in the sampling process\n",
        "g = torch.Generator().manual_seed(2147483647 + 10)\n",
        "\n",
        "# the loop that iterates 50 times to generate 50 text sequences\n",
        "for _ in range(50):\n",
        "\n",
        "    # to initialize an empty list to store the sampled text sequence\n",
        "    out = []\n",
        "    # to initialize the context with a list of zeros\n",
        "    context = [0] * block_size\n",
        "    # to start an infinite loop to sample text until a termination condition is met\n",
        "    while True:\n",
        "      # to retrieve the embeddings for the current context from the embedding matrix C\n",
        "      emb = C[torch.tensor([context])] # (1,block_size,d)\n",
        "      # to compute the activations of the HIDDEN layer neurons using the embeddings, weight W1, and bias b1\n",
        "      h = torch.tanh(emb.view(1, -1) @ W1 + b1)\n",
        "      # to calculate the logits by multiplying the HIDDEN layer activations with weight W2 and adding bias b2\n",
        "      logits = h @ W2 + b2\n",
        "      # to applie the softmax function along dimension 1 (rows) to convert the logits into probabilities\n",
        "      probs = F.softmax(logits, dim=1)\n",
        "      # to sample a single character (index) from the probability distribution defined by probs using the multinomial function to represent the next character in the sequence\n",
        "      ix = torch.multinomial(probs, num_samples=1, generator=g).item()\n",
        "      # to update the context by removing the first element and appending the sampled index to the end to prepare the context for the next iteration of sampling\n",
        "      context = context[1:] + [ix]\n",
        "      # to append the sampled index to the list of sampled indices\n",
        "      out.append(ix)\n",
        "      # the condition to check if the sampled index is the termination token (0) to stop the sampling process\n",
        "      if ix == 0:\n",
        "        break\n",
        "    # to print the sampled text sequence\n",
        "    # to convert the sampled indices (out) back into characters using the itos list and see the generated results :)\n",
        "    print(''.join(itos[i] for i in out))"
      ],
      "metadata": {
        "colab": {
          "base_uri": "https://localhost:8080/"
        },
        "id": "yWfNiwE8O0WQ",
        "outputId": "6881a977-a8c8-4c2d-f8db-dca827c63b1f"
      },
      "execution_count": null,
      "outputs": [
        {
          "output_type": "stream",
          "name": "stdout",
          "text": [
            "Дона.\n",
            "Аделаида.\n",
            "Мари.\n",
            "Евфима.\n",
            "Фекусандина.\n",
            "Вилена.\n",
            "Варя.\n",
            "Маркира.\n",
            "Марина.\n",
            "Сира.\n",
            "Татья.\n",
            "Виолета.\n",
            "Олима.\n",
            "Феодулара.\n",
            "Фелина.\n",
            "Фабиана.\n",
            "Рокса.\n",
            "Берегриппина.\n",
            "Евсевия.\n",
            "Астрида.\n",
            "Алешан.\n",
            "Вида.\n",
            "Сера.\n",
            "Юнона.\n",
            "Купава.\n",
            "Терегрита.\n",
            "Вивея.\n",
            "Бирута.\n",
            "Добромира.\n",
            "Весиния.\n",
            "Васия.\n",
            "Паулина.\n",
            "Иана.\n",
            "Рема.\n",
            "Мариамна.\n",
            "Евлалида.\n",
            "Ивона.\n",
            "Ираида.\n",
            "Бабетта.\n",
            "Феопииклида.\n",
            "Эльза.\n",
            "Федуларема.\n",
            "Вацлава.\n",
            "Хионикия.\n",
            "Камиля.\n",
            "Секлетта.\n",
            "Алеся.\n",
            "Всесландина.\n",
            "Феоникия.\n",
            "Вера.\n"
          ]
        }
      ]
    },
    {
      "cell_type": "markdown",
      "source": [
        "# b. Non-capitalized\n",
        "In this part of code, the same dataset of female names is lowercased to see the difference between performance of the model that is trained on capitalized dataset and the model that is trained on non-capitalized dataset."
      ],
      "metadata": {
        "id": "LQvAYtceO5Ad"
      }
    },
    {
      "cell_type": "code",
      "source": [
        "# to open and read the file, turn all characters lowercase, and split the string into list:\n",
        "words = open('female_names_rus.txt', 'r').read().lower().splitlines()\n",
        "\n",
        "# print out first 8 words\n",
        "words[:8]"
      ],
      "metadata": {
        "colab": {
          "base_uri": "https://localhost:8080/"
        },
        "id": "gL4W37wLP7w3",
        "outputId": "da9955a2-803f-4cd7-d6ad-af543642bef8"
      },
      "execution_count": null,
      "outputs": [
        {
          "output_type": "execute_result",
          "data": {
            "text/plain": [
              "['августа',\n",
              " 'августина',\n",
              " 'авдотья',\n",
              " 'аврелия',\n",
              " 'аврея',\n",
              " 'аврора',\n",
              " 'агапа',\n",
              " 'агапия']"
            ]
          },
          "metadata": {},
          "execution_count": 21
        }
      ]
    },
    {
      "cell_type": "code",
      "source": [
        "# build the vocabulary of characters as string to integers and viceversa:\n",
        "chars = sorted(list(set(''.join(words))))\n",
        "stoi = {s:i+1 for i,s in enumerate(chars)}\n",
        "stoi['.'] = 0\n",
        "itos = {i:s for s,i in stoi.items()}\n",
        "\n",
        "# to print the total number of the characters in vocalubary\n",
        "len(itos)"
      ],
      "metadata": {
        "colab": {
          "base_uri": "https://localhost:8080/"
        },
        "id": "IpYL1nSwQE_m",
        "outputId": "3505fe2c-a5ce-4be4-d0d4-2040f4ac9d71"
      },
      "execution_count": null,
      "outputs": [
        {
          "output_type": "execute_result",
          "data": {
            "text/plain": [
              "32"
            ]
          },
          "metadata": {},
          "execution_count": 22
        }
      ]
    },
    {
      "cell_type": "code",
      "source": [
        "# to build the dataset:\n",
        "\n",
        "# to define the context window: the number of characters to take to predict the next character\n",
        "block_size = 3\n",
        "\n",
        "# to define a function 'build_dataset' that takes a list of words as input\n",
        "def build_dataset(words):\n",
        "\n",
        "  # to start empty lists 'X' and 'Y' to store INPUT pairs\n",
        "  # 'X' is the INPUT into neural network, 'Y' is Label for each 'X'\n",
        "  X, Y = [], []\n",
        "\n",
        "  # to iterate through each word in the INPUT list words\n",
        "  for w in words:\n",
        "    # to start a padded context of 0 tokens with length equal to the block_size\n",
        "    context = [0] * block_size\n",
        "\n",
        "    # to iterate through each character in the word concatenated with a period (.) indicating the end of the word\n",
        "    for ch in w + '.': # iterate over all the characters\n",
        "\n",
        "      # to retrieves the index of the current character 'ch' from a dictionary 'stoi' that maps characters to their corresponding indices\n",
        "      # to get the characters in a sequence\n",
        "      ix = stoi[ch]\n",
        "\n",
        "      # to append the current context to the input list X\n",
        "      X.append(context)\n",
        "      # to append the index of the next character to the label list Y\n",
        "      Y.append(ix)\n",
        "      # to update the context by removing the first element and adding the index of the current character to the end,\n",
        "      # to create a rolling window of contexts\n",
        "      context = context[1:] + [ix]\n",
        "\n",
        "  # to convert the input list X into a PyTorch tensor\n",
        "  X = torch.tensor(X)\n",
        "  # to converts the input list Y into a PyTorch tensor\n",
        "  Y = torch.tensor(Y)\n",
        "\n",
        "  # to prints the shapes of X and Y tensors\n",
        "  print(X.shape, Y.shape)\n",
        "  # to return X and Y tensor as the output of the 'build_dataset' function\n",
        "  return X, Y\n",
        "\n",
        "# to import the 'random' module\n",
        "import random\n",
        "# to set the random seed to 42 for reproducibility\n",
        "random.seed(42)\n",
        "# to shuffle the list of words randomly\n",
        "random.shuffle(words)\n",
        "\n",
        "# to calculate the index n1, which corresponds to 80% of the total number of words\n",
        "n1 = int(0.8*len(words))\n",
        "# to calculate the index n2, which corresponds to 90% of the total number of words\n",
        "n2 = int(0.9*len(words))\n",
        "\n",
        "# to build the TRAINING dataset (Xtr, Ytr) using the first 80% of the shuffled words (n1)\n",
        "Xtr, Ytr = build_dataset(words[:n1])\n",
        "\n",
        "# to build the VALIDATION dataset (Xdev, Ydev) using the next 10% of the shuffled words (n2 - n1)\n",
        "Xdev, Ydev = build_dataset(words[n1:n2])\n",
        "\n",
        "# to bugild the TEST dataset (Xte, Yte) using the remaining 10% of the shuffled words (100% - n2)\n",
        "Xte, Yte = build_dataset(words[n2:])"
      ],
      "metadata": {
        "colab": {
          "base_uri": "https://localhost:8080/"
        },
        "id": "43o9huRjQSg0",
        "outputId": "e0b1bfe6-97fb-4bfe-c230-99cdaa69b52e"
      },
      "execution_count": null,
      "outputs": [
        {
          "output_type": "stream",
          "name": "stdout",
          "text": [
            "torch.Size([5752, 3]) torch.Size([5752])\n",
            "torch.Size([718, 3]) torch.Size([718])\n",
            "torch.Size([678, 3]) torch.Size([678])\n"
          ]
        }
      ]
    },
    {
      "cell_type": "code",
      "source": [
        "# to initialize parameters for a neural network model:\n",
        "\n",
        "# to create a random number generator for reproducibility\n",
        "g = torch.Generator().manual_seed(2147483647)\n",
        "\n",
        "# to build an INPUT layer, a random tensor C with dimensions (32, 10), where 32 is number of rows (chars in vocabulary) represented by a 10-dim embedding\n",
        "C = torch.randn((32, 10), generator=g)\n",
        "\n",
        "# to buld a second layer of random weight matrix W1 with dimensions (30, 200), where 30 neurons are in the HIDDEN layer,\n",
        "# and each neuron has 200 connections coming from the INPUT layer\n",
        "W1 = torch.randn((30, 200), generator=g)\n",
        "\n",
        "# to build random bias vector b1 with 200 elements associated with  200 neurons in the HIDDEN layer\n",
        "b1 = torch.randn(200, generator=g)\n",
        "\n",
        "# to build a randon weight matrix W2 with dimensions (200, 32) that connecting the HIDDEN layer to the OUTPUT layer\n",
        "W2 = torch.randn((200, 32), generator=g)\n",
        "\n",
        "# to build a random bias vector b2 with 32 elements associated with 32 neurons in the OUTPUT layer\n",
        "b2 = torch.randn(32, generator=g)\n",
        "\n",
        "# to collect all the parameters of the neural network model\n",
        "parameters = [C, W1, b1, W2, b2]"
      ],
      "metadata": {
        "id": "YbIzF9KoRJUk"
      },
      "execution_count": null,
      "outputs": []
    },
    {
      "cell_type": "code",
      "source": [
        "# number of parameters in total\n",
        "sum(p.nelement() for p in parameters)"
      ],
      "metadata": {
        "colab": {
          "base_uri": "https://localhost:8080/"
        },
        "id": "JAjybUW-Qat6",
        "outputId": "6de8dd3c-52a2-4d57-d5d6-2f1c7b19650e"
      },
      "execution_count": null,
      "outputs": [
        {
          "output_type": "execute_result",
          "data": {
            "text/plain": [
              "12952"
            ]
          },
          "metadata": {},
          "execution_count": 37
        }
      ]
    },
    {
      "cell_type": "code",
      "source": [
        "# the loop that iterates over all parameters (C, W1, b1, W2, b2) and sets 'requires_grad' attribute to True.\n",
        "# to indicate that gradients should be computed for these parameters during backpropagation\n",
        "for p in parameters:\n",
        "  p.requires_grad = True"
      ],
      "metadata": {
        "id": "3njGMNpWQfrn"
      },
      "execution_count": null,
      "outputs": []
    },
    {
      "cell_type": "code",
      "source": [
        "# to initialize a learning rate\n",
        "lre = torch.linspace(-3, 0, 1000)\n",
        "lrs = 10**lre"
      ],
      "metadata": {
        "id": "fiKPeo1PQlI5"
      },
      "execution_count": null,
      "outputs": []
    },
    {
      "cell_type": "code",
      "source": [
        "# to create lists to track learning rate, loss, and step (iteration) during the model training\n",
        "lri = []\n",
        "lossi = []\n",
        "stepi = []"
      ],
      "metadata": {
        "id": "fNOlSwgkQox0"
      },
      "execution_count": null,
      "outputs": []
    },
    {
      "cell_type": "code",
      "source": [
        "# to train the model:\n",
        "\n",
        "for i in range(200000): # the loop that iterates over 200k training iterations\n",
        "\n",
        "  # to select randomly 32 indices from the training data (Xtr) for creating a minibatch\n",
        "  ix = torch.randint(0, Xtr.shape[0], (32,))\n",
        "\n",
        "  # forward pass:\n",
        "  # to look up embeddings from the matrix C based on the randomly selected indices from the training data (Xtr)\n",
        "  # to create a tensor of shape (32, 3, 2)\n",
        "  emb = C[Xtr[ix]] # (32, 3, 2)\n",
        "\n",
        "  # to compute the HIDDEN layer using the embeddings, weight matrix W1, and bias vector b1\n",
        "  # to appliy the tanh function\n",
        "  h = torch.tanh(emb.view(-1, 30) @ W1 + b1) # (32, 100)\n",
        "\n",
        "  # to compute the logits (output of the neural network before applying softmax)\n",
        "  # to multiply the HIDDEN layer with weight  W2 and adding bias b2\n",
        "  logits = h @ W2 + b2 # (32, 32)\n",
        "\n",
        "  # to compute the cross-entropy loss between the predicted logits and array of targets (Ytr)\n",
        "  # it uses built-in cross_entropy function (for efficency)\n",
        "  loss = F.cross_entropy(logits, Ytr[ix])\n",
        "\n",
        "  # backward pass:\n",
        "  # the loop resets the gradients of all parameters to None before computing gradients for the current minibatch\n",
        "  for p in parameters:\n",
        "    p.grad = None\n",
        "\n",
        "  # to compute gradients of the loss using backpropagation\n",
        "  loss.backward()\n",
        "\n",
        "  # to adjust the learning rate setting the higher lr of 0.1 for the first 100k iterations\n",
        "  # and lower lr of 0.01 for the remaining iterations\n",
        "  lr = 0.1 if i < 100000 else 0.01\n",
        "  for p in parameters:\n",
        "    p.data += -lr * p.grad\n",
        "\n",
        "  # track stats\n",
        "  # to append the current iteration number to the list 'stepi'\n",
        "  stepi.append(i)\n",
        "\n",
        "  # to append the logarithm (base 10) of the loss to the list 'lossi'\n",
        "  lossi.append(loss.log10().item())"
      ],
      "metadata": {
        "id": "IPt0YRpwQtw2"
      },
      "execution_count": null,
      "outputs": []
    },
    {
      "cell_type": "code",
      "source": [
        "# to print out the loss value obtained after the last training iteration (how well the model works)\n",
        "print(loss.item())"
      ],
      "metadata": {
        "colab": {
          "base_uri": "https://localhost:8080/"
        },
        "id": "59v7WCYoRkA1",
        "outputId": "7ce21543-4bcc-4fed-a8ab-44b15a96d387"
      },
      "execution_count": null,
      "outputs": [
        {
          "output_type": "stream",
          "name": "stdout",
          "text": [
            "1.28824782371521\n"
          ]
        }
      ]
    },
    {
      "cell_type": "code",
      "source": [
        "# to plot the training loss over the course of training\n",
        "# where 'stepi' is the iteration numbers and 'lossi' is the corresponding loss values\n",
        "plt.plot(stepi, lossi)"
      ],
      "metadata": {
        "colab": {
          "base_uri": "https://localhost:8080/",
          "height": 448
        },
        "id": "usLAuCE0SuL8",
        "outputId": "c53079c9-6360-4667-af91-853107e23d09"
      },
      "execution_count": null,
      "outputs": [
        {
          "output_type": "execute_result",
          "data": {
            "text/plain": [
              "[<matplotlib.lines.Line2D at 0x7fecc3ffbf70>]"
            ]
          },
          "metadata": {},
          "execution_count": 43
        },
        {
          "output_type": "display_data",
          "data": {
            "text/plain": [
              "<Figure size 640x480 with 1 Axes>"
            ],
            "image/png": "[encoded data removed]"
          },
          "metadata": {}
        }
      ]
    },
    {
      "cell_type": "code",
      "source": [
        "# training loss\n",
        "# to calculate ther trainnig loss by retrieving the embeddings for the training examples (Xtr) from the embedding matrix C\n",
        "emb = C[Xtr] # (32, 3, 2)\n",
        "h = torch.tanh(emb.view(-1, 30) @ W1 + b1) # (32, 100)\n",
        "logits = h @ W2 + b2 # (32, 59)\n",
        "# to calculate cross-enthropy loss between the predicted logits and the labels (Ytr)\n",
        "loss = F.cross_entropy(logits, Ytr)\n",
        "# to print put the results\n",
        "loss"
      ],
      "metadata": {
        "colab": {
          "base_uri": "https://localhost:8080/"
        },
        "id": "Hxdzfe02SybT",
        "outputId": "7d06c21e-082c-4914-eb4d-24a98e100387"
      },
      "execution_count": null,
      "outputs": [
        {
          "output_type": "execute_result",
          "data": {
            "text/plain": [
              "tensor(1.1167, grad_fn=<NllLossBackward0>)"
            ]
          },
          "metadata": {},
          "execution_count": 44
        }
      ]
    },
    {
      "cell_type": "code",
      "source": [
        "# validation loss\n",
        "# to calculate the validation loss using the same process as the training loss but with the validation dataset (Xdev, Ydev)\n",
        "emb = C[Xdev] # (32, 3, 2)\n",
        "h = torch.tanh(emb.view(-1, 30) @ W1 + b1) # (32, 100)\n",
        "logits = h @ W2 + b2 # (32, 59)\n",
        "loss = F.cross_entropy(logits, Ydev)\n",
        "# to print put the results\n",
        "loss"
      ],
      "metadata": {
        "colab": {
          "base_uri": "https://localhost:8080/"
        },
        "id": "OpBjMS66S16r",
        "outputId": "732ab337-6dc8-4b05-c2a2-626964ed7b76"
      },
      "execution_count": null,
      "outputs": [
        {
          "output_type": "execute_result",
          "data": {
            "text/plain": [
              "tensor(4.1677, grad_fn=<NllLossBackward0>)"
            ]
          },
          "metadata": {},
          "execution_count": 45
        }
      ]
    },
    {
      "cell_type": "code",
      "source": [
        "# test loss\n",
        "# to calculate the test loss with the test dataset (Xte, Yte)\n",
        "emb = C[Xte] # (32, 3, 2)\n",
        "h = torch.tanh(emb.view(-1, 30) @ W1 + b1) # (32, 100)\n",
        "logits = h @ W2 + b2 # (32, 59)\n",
        "loss = F.cross_entropy(logits, Yte)\n",
        "# to print put the results\n",
        "loss"
      ],
      "metadata": {
        "colab": {
          "base_uri": "https://localhost:8080/"
        },
        "id": "kz_uEDW6S5HF",
        "outputId": "bfb7454f-a0de-4bcd-d73e-28dd9ff41fc3"
      },
      "execution_count": null,
      "outputs": [
        {
          "output_type": "execute_result",
          "data": {
            "text/plain": [
              "tensor(4.1949, grad_fn=<NllLossBackward0>)"
            ]
          },
          "metadata": {},
          "execution_count": 46
        }
      ]
    },
    {
      "cell_type": "code",
      "source": [
        "# visualize dimensions 0 and 1 of the embedding matrix C for all characters\n",
        "plt.figure(figsize=(8,8)) # to create a new figure for the plot with size of 8x8 inches\n",
        "\n",
        "# to creates a scatter plot using the first and second dimensions of the embedding matrix C\n",
        "# where point in the scatter plot represents the embedding of a character\n",
        "# the s = 200 argument sets the size of each point to 200\n",
        "plt.scatter(C[:,0].data, C[:,1].data, s = 200)\n",
        "\n",
        "# the loop that iterates over each character embedding in the embedding matrix C\n",
        "for i in range(C.shape[0]):\n",
        "\n",
        "    # the annotatins to the scatter plot at the position of each character's embedding\n",
        "    plt.text(C[i,0].item(), C[i,1].item(), itos[i], ha=\"center\", va=\"center\", color='white')\n",
        "\n",
        "# to add a minor grid to the plot\n",
        "plt.grid('minor')"
      ],
      "metadata": {
        "colab": {
          "base_uri": "https://localhost:8080/",
          "height": 676
        },
        "id": "TUYPtto9S80u",
        "outputId": "f8c3059f-d2ca-42e9-9d3b-43d87f3a80a5"
      },
      "execution_count": null,
      "outputs": [
        {
          "output_type": "display_data",
          "data": {
            "text/plain": [
              "<Figure size 800x800 with 1 Axes>"
            ],
            "image/png": "[encoded data removed]"
          },
          "metadata": {}
        }
      ]
    },
    {
      "cell_type": "code",
      "source": [
        "# Let's sample from the model:\n",
        "\n",
        "# to create a new random number generator with a specific seed (2147483647 + 10)\n",
        "# it will be used to ensure reproducibility in the sampling process\n",
        "g = torch.Generator().manual_seed(2147483647 + 10)\n",
        "\n",
        "# the loop that iterates 50 times to generate 50 text sequences\n",
        "for _ in range(50):\n",
        "\n",
        "    # to initialize an empty list to store the sampled text sequence\n",
        "    out = []\n",
        "    # to initialize the context with a list of zeros\n",
        "    context = [0] * block_size\n",
        "    # to start an infinite loop to sample text until a termination condition is met\n",
        "    while True:\n",
        "      # to retrieve the embeddings for the current context from the embedding matrix C\n",
        "      emb = C[torch.tensor([context])] # (1,block_size,d)\n",
        "      # to compute the activations of the HIDDEN layer neurons using the embeddings, weight W1, and bias b1\n",
        "      h = torch.tanh(emb.view(1, -1) @ W1 + b1)\n",
        "      # to calculate the logits by multiplying the HIDDEN layer activations with weight W2 and adding bias b2\n",
        "      logits = h @ W2 + b2\n",
        "      # to applie the softmax function along dimension 1 (rows) to convert the logits into probabilities\n",
        "      probs = F.softmax(logits, dim=1)\n",
        "      # to sample a single character (index) from the probability distribution defined by probs using the multinomial function to represent the next character in the sequence\n",
        "      ix = torch.multinomial(probs, num_samples=1, generator=g).item()\n",
        "      # to update the context by removing the first element and appending the sampled index to the end to prepare the context for the next iteration of sampling\n",
        "      context = context[1:] + [ix]\n",
        "      # to append the sampled index to the list of sampled indices\n",
        "      out.append(ix)\n",
        "      # the condition to check if the sampled index is the termination token (0) to stop the sampling process\n",
        "      if ix == 0:\n",
        "        break\n",
        "    # to print the sampled text sequence\n",
        "    # to convert the sampled indices (out) back into characters using the itos list and see the generated results :)\n",
        "    print(''.join(itos[i] for i in out))"
      ],
      "metadata": {
        "colab": {
          "base_uri": "https://localhost:8080/"
        },
        "id": "82yPuealTAFW",
        "outputId": "bcdbd3ab-7a16-4e09-9b38-d4e08bbceb48"
      },
      "execution_count": null,
      "outputs": [
        {
          "output_type": "stream",
          "name": "stdout",
          "text": [
            "мстина.\n",
            "настасья.\n",
            "неоника.\n",
            "румия.\n",
            "викторида.\n",
            "розалида.\n",
            "федоротея.\n",
            "дионида.\n",
            "анастра.\n",
            "филомена.\n",
            "ноэмилютина.\n",
            "минодора.\n",
            "стефаня.\n",
            "нунехия.\n",
            "бенедикта.\n",
            "малима.\n",
            "томаина.\n",
            "текуса.\n",
            "зина.\n",
            "алешанида.\n",
            "айжлира.\n",
            "дия.\n",
            "сусанни.\n",
            "одетта.\n",
            "гонелико.\n",
            "одетта.\n",
            "ила.\n",
            "евфросия.\n",
            "марселия.\n",
            "росина.\n",
            "патра.\n",
            "лава.\n",
            "уста.\n",
            "биргитта.\n",
            "ана.\n",
            "ира.\n",
            "клемира.\n",
            "паисия.\n",
            "сильина.\n",
            "гликонста.\n",
            "юлианница.\n",
            "эрнесса.\n",
            "сильга.\n",
            "зиновелика.\n",
            "ксения.\n",
            "ира.\n",
            "сильда.\n",
            "варасионида.\n",
            "агнессалонгина.\n",
            "норгул.\n"
          ]
        }
      ]
    }
  ]
}