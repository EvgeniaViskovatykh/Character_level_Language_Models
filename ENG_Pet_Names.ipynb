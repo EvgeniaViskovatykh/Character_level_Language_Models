{
  "nbformat": 4,
  "nbformat_minor": 0,
  "metadata": {
    "colab": {
      "provenance": []
    },
    "kernelspec": {
      "name": "python3",
      "display_name": "Python 3"
    },
    "language_info": {
      "name": "python"
    }
  },
  "cells": [
    {
      "cell_type": "code",
      "source": [
        "import torch # to import the PyTorch library\n",
        "import torch.nn.functional as F # to import the functional interface of PyTorch's neural network library\n",
        "import matplotlib.pyplot as plt # module for creating plots\n",
        "%matplotlib inline"
      ],
      "metadata": {
        "id": "KRTVsd3ku77n"
      },
      "execution_count": 7,
      "outputs": []
    },
    {
      "cell_type": "code",
      "source": [
        "# to read the text file, words = open('pet_names.txt', 'r').read().replace(' ', '').splitlines()\n",
        "words = open('pet_names.txt', 'r').read().replace(' ', '').splitlines()\n",
        "\n",
        "# print out first 10 words\n",
        "words[:10]"
      ],
      "metadata": {
        "colab": {
          "base_uri": "https://localhost:8080/"
        },
        "id": "yDmljlZj1ciU",
        "outputId": "811e2b2c-6588-4705-b33d-259d1561a443"
      },
      "execution_count": 8,
      "outputs": [
        {
          "output_type": "execute_result",
          "data": {
            "text/plain": [
              "['Abbey',\n",
              " 'Abby',\n",
              " 'Abi',\n",
              " 'Addie',\n",
              " 'Aggie',\n",
              " 'Ahanu',\n",
              " 'Al',\n",
              " 'Alex',\n",
              " 'Alfie',\n",
              " 'AlfieDude']"
            ]
          },
          "metadata": {},
          "execution_count": 8
        }
      ]
    },
    {
      "cell_type": "code",
      "source": [
        "# the total number of words in dataset\n",
        "len(words)"
      ],
      "metadata": {
        "colab": {
          "base_uri": "https://localhost:8080/"
        },
        "id": "MxxjatM31gsF",
        "outputId": "729713ae-e1f5-4857-c1e9-539b8ee17f7d"
      },
      "execution_count": 9,
      "outputs": [
        {
          "output_type": "execute_result",
          "data": {
            "text/plain": [
              "1354"
            ]
          },
          "metadata": {},
          "execution_count": 9
        }
      ]
    },
    {
      "cell_type": "code",
      "source": [
        "# to build the vocabulary of characters, uppercase and lowercase, as string to integers and viceversa:\n",
        "# to combine all words into a single string, removes duplicates, sorts the characters, and stores them in the chars variable\n",
        "chars = sorted(list(set(''.join(words))))\n",
        "# to create a dictionary mapping characters to integer indices\n",
        "stoi = {s:i+1 for i,s in enumerate(chars)}\n",
        "# to add the 'dot' character as index 0 in the dictionary\n",
        "stoi['.'] = 0\n",
        "# to create a dictionary mapping integer indices back to characters\n",
        "itos = {i:s for s,i in stoi.items()}\n",
        "\n",
        "# to print the total number of the characters in vocalubary\n",
        "len(itos)"
      ],
      "metadata": {
        "colab": {
          "base_uri": "https://localhost:8080/"
        },
        "id": "JiNl8q-t1uyh",
        "outputId": "7295ea37-d75a-446c-d7d2-3d180e2a0bd3"
      },
      "execution_count": 10,
      "outputs": [
        {
          "output_type": "execute_result",
          "data": {
            "text/plain": [
              "55"
            ]
          },
          "metadata": {},
          "execution_count": 10
        }
      ]
    },
    {
      "cell_type": "code",
      "source": [
        "# to build the dataset:\n",
        "\n",
        "# to define the context window: the number of characters to take to predict the next character\n",
        "block_size = 3\n",
        "\n",
        "# to define a function 'build_dataset' that takes a list of words as input\n",
        "def build_dataset(words):\n",
        "\n",
        "  # to start empty lists 'X' and 'Y' to store INPUT pairs\n",
        "  # 'X' is the INPUT into neural network, 'Y' is Label for each 'X'\n",
        "  X, Y = [], []\n",
        "\n",
        "  # to iterate through each word in the INPUT list words\n",
        "  for w in words:\n",
        "    # to start a padded context of 0 tokens with length equal to the block_size\n",
        "    context = [0] * block_size\n",
        "\n",
        "    # to iterate through each character in the word concatenated with a period (.) indicating the end of the word\n",
        "    for ch in w + '.': # iterate over all the characters\n",
        "\n",
        "      # to retrieves the index of the current character 'ch' from a dictionary 'stoi' that maps characters to their corresponding indices\n",
        "      # to get the characters in a sequence\n",
        "      ix = stoi[ch]\n",
        "\n",
        "      # to append the current context to the input list X\n",
        "      X.append(context)\n",
        "      # to append the index of the next character to the label list Y\n",
        "      Y.append(ix)\n",
        "      # to update the context by removing the first element and adding the index of the current character to the end,\n",
        "      # to create a rolling window of contexts\n",
        "      context = context[1:] + [ix]\n",
        "\n",
        "  # to convert the input list X into a PyTorch tensor\n",
        "  X = torch.tensor(X)\n",
        "  # to converts the input list Y into a PyTorch tensor\n",
        "  Y = torch.tensor(Y)\n",
        "\n",
        "  # to prints the shapes of X and Y tensors\n",
        "  print(X.shape, Y.shape)\n",
        "  # to return X and Y tensor as the output of the 'build_dataset' function\n",
        "  return X, Y\n",
        "\n",
        "# to import the 'random' module\n",
        "import random\n",
        "# to set the random seed to 42 for reproducibility\n",
        "random.seed(42)\n",
        "# to shuffle the list of words randomly\n",
        "random.shuffle(words)\n",
        "\n",
        "# to calculate the index n1, which corresponds to 80% of the total number of words\n",
        "n1 = int(0.8*len(words))\n",
        "# to calculate the index n2, which corresponds to 90% of the total number of words\n",
        "n2 = int(0.9*len(words))\n",
        "\n",
        "# to build the TRAINING dataset (Xtr, Ytr) using the first 80% of the shuffled words (n1)\n",
        "Xtr, Ytr = build_dataset(words[:n1])\n",
        "\n",
        "# to build the VALIDATION dataset (Xdev, Ydev) using the next 10% of the shuffled words (n2 - n1)\n",
        "Xdev, Ydev = build_dataset(words[n1:n2])\n",
        "\n",
        "# to bugild the TEST dataset (Xte, Yte) using the remaining 10% of the shuffled words (100% - n2)\n",
        "Xte, Yte = build_dataset(words[n2:])"
      ],
      "metadata": {
        "colab": {
          "base_uri": "https://localhost:8080/"
        },
        "id": "84OcvcSL5RLs",
        "outputId": "fba4da03-d8ef-46aa-e8c6-954e455632b0"
      },
      "execution_count": 11,
      "outputs": [
        {
          "output_type": "stream",
          "name": "stdout",
          "text": [
            "torch.Size([6864, 3]) torch.Size([6864])\n",
            "torch.Size([857, 3]) torch.Size([857])\n",
            "torch.Size([840, 3]) torch.Size([840])\n"
          ]
        }
      ]
    },
    {
      "cell_type": "code",
      "source": [
        "# to initialize parameters for a neural network model:\n",
        "\n",
        "# to create a random number generator for reproducibility\n",
        "g = torch.Generator().manual_seed(2147483647)\n",
        "\n",
        "# to build an INPUT layer, a random tensor C with dimensions (55, 10), where 55 is number of rows (characters in vocabulary) represented by a 10-dim embedding\n",
        "C = torch.randn((55, 10), generator=g)\n",
        "\n",
        "# to buld a HIDDEN layer of random weight matrix W1 with dimensions (30, 200), where 30 neurons are in the HIDDEN layer,\n",
        "# and each neuron has 200 connections coming from the INPUT layer\n",
        "W1 = torch.randn((30, 200), generator=g)\n",
        "\n",
        "# to build random bias vector b1 with 200 elements associated with  200 neurons in the HIDDEN layer\n",
        "b1 = torch.randn(200, generator=g)\n",
        "\n",
        "# to build a randon weight matrix W2 with dimensions (200, 55) that connecting the HIDDEN layer to the OUTPUT layer\n",
        "W2 = torch.randn((200, 55), generator=g)\n",
        "\n",
        "# to build a random bias vector b2 with 55 elements associated with 55 neurons in the OUTPUT layer\n",
        "b2 = torch.randn(55, generator=g)\n",
        "\n",
        "# to collect all the parameters of the neural network model\n",
        "parameters = [C, W1, b1, W2, b2]"
      ],
      "metadata": {
        "id": "_VFJEQob7g8X"
      },
      "execution_count": 12,
      "outputs": []
    },
    {
      "cell_type": "code",
      "source": [
        "# number of parameters in total\n",
        "sum(p.nelement() for p in parameters)"
      ],
      "metadata": {
        "colab": {
          "base_uri": "https://localhost:8080/"
        },
        "id": "FzkFxwLl7Vnh",
        "outputId": "3e61cace-977d-438e-9657-6d07135a5eca"
      },
      "execution_count": 13,
      "outputs": [
        {
          "output_type": "execute_result",
          "data": {
            "text/plain": [
              "17805"
            ]
          },
          "metadata": {},
          "execution_count": 13
        }
      ]
    },
    {
      "cell_type": "code",
      "source": [
        "# the loop that iterates over all parameters (C, W1, b1, W2, b2) and sets 'requires_grad' attribute to True.\n",
        "# to indicate that gradients should be computed for these parameters during backpropagation\n",
        "for p in parameters:\n",
        "  p.requires_grad = True"
      ],
      "metadata": {
        "id": "98Ytl22V7l1W"
      },
      "execution_count": 14,
      "outputs": []
    },
    {
      "cell_type": "code",
      "source": [
        "# to initialize a learning rate\n",
        "lre = torch.linspace(-3, 0, 1000)\n",
        "lrs = 10**lre"
      ],
      "metadata": {
        "id": "U46YgjDKitwe"
      },
      "execution_count": 15,
      "outputs": []
    },
    {
      "cell_type": "code",
      "source": [
        "lri = []\n",
        "lossi = []\n",
        "stepi = []"
      ],
      "metadata": {
        "id": "baM77egq7Xs9"
      },
      "execution_count": 16,
      "outputs": []
    },
    {
      "cell_type": "code",
      "source": [
        "# to train the model:\n",
        "\n",
        "for i in range(200000): # the loop that iterates over 200k training iterations\n",
        "\n",
        "  # to select randomly 32 indices from the training data (Xtr) for creating a minibatch\n",
        "  ix = torch.randint(0, Xtr.shape[0], (32,))\n",
        "\n",
        "  # forward pass:\n",
        "  # to look up embeddings from the matrix C based on the randomly selected indices from the training data (Xtr)\n",
        "  # to create a tensor of shape (32, 3, 2)\n",
        "  emb = C[Xtr[ix]] # (32, 3, 2)\n",
        "\n",
        "  # to compute the HIDDEN layer activations using the embeddings, weight matrix W1, and bias vector b1\n",
        "  # to appliy the tanh function\n",
        "  h = torch.tanh(emb.view(-1, 30) @ W1 + b1) # (32, 100)\n",
        "\n",
        "  # to compute the logits (output of the neural network before applying softmax)\n",
        "  # to multiply the HIDDEN layer with weight W2 and adding bias b2\n",
        "  logits = h @ W2 + b2 # (32, 55)\n",
        "\n",
        "  # to compute the cross-entropy loss between the predicted logits and the true labels (Ytr)\n",
        "  # it uses built-in cross_entropy function\n",
        "  loss = F.cross_entropy(logits, Ytr[ix])\n",
        "\n",
        "  # backward pass:\n",
        "  # the loop resets the gradients of all parameters to None before computing gradients for the current minibatch\n",
        "  for p in parameters:\n",
        "    p.grad = None\n",
        "\n",
        "  # to compute gradients of the loss using backpropagation\n",
        "  loss.backward()\n",
        "\n",
        "  # to adjust the learning rate setting the higher lr of 0.1 for the first 100k iterations\n",
        "  # and lower lr of 0.01 for the remaining iterations\n",
        "  lr = 0.1 if i < 100000 else 0.01\n",
        "\n",
        "  # the loop to update parameters with gradients and the learning rate\n",
        "  for p in parameters:\n",
        "    p.data += -lr * p.grad\n",
        "\n",
        "  # track stats\n",
        "  # to append the current iteration number to the list 'stepi'\n",
        "  stepi.append(i)\n",
        "\n",
        "  # to append the logarithm (base 10) of the loss to the list 'lossi'\n",
        "  lossi.append(loss.log10().item())"
      ],
      "metadata": {
        "id": "eWyFsqH87srN"
      },
      "execution_count": 17,
      "outputs": []
    },
    {
      "cell_type": "code",
      "source": [
        "# to print out the loss value obtained after the last training iteration (how well the model works)\n",
        "print(loss.item())"
      ],
      "metadata": {
        "colab": {
          "base_uri": "https://localhost:8080/"
        },
        "id": "jiiFtpEt7zcM",
        "outputId": "ea4da632-1cb1-457a-c3d9-66d2310ada73"
      },
      "execution_count": 18,
      "outputs": [
        {
          "output_type": "stream",
          "name": "stdout",
          "text": [
            "1.1290957927703857\n"
          ]
        }
      ]
    },
    {
      "cell_type": "code",
      "source": [
        "# to plot the training loss over the course of training\n",
        "# where 'stepi' is the iteration numbers and 'lossi' is the corresponding loss values\n",
        "plt.plot(stepi, lossi)"
      ],
      "metadata": {
        "colab": {
          "base_uri": "https://localhost:8080/",
          "height": 448
        },
        "id": "1laVusGH73qr",
        "outputId": "c3fea8d6-bc8a-482f-bd1d-1d09fc8c8644"
      },
      "execution_count": 19,
      "outputs": [
        {
          "output_type": "execute_result",
          "data": {
            "text/plain": [
              "[<matplotlib.lines.Line2D at 0x7b8cb5681db0>]"
            ]
          },
          "metadata": {},
          "execution_count": 19
        },
        {
          "output_type": "display_data",
          "data": {
            "text/plain": [
              "<Figure size 640x480 with 1 Axes>"
            ],
            "image/png": "[encoded data removed]"
          },
          "metadata": {}
        }
      ]
    },
    {
      "cell_type": "code",
      "source": [
        "# training loss\n",
        "# to calculate ther trainnig loss by retrieving the embeddings for the training examples (Xtr) from the embedding matrix C\n",
        "emb = C[Xtr] # (32, 3, 2)\n",
        "h = torch.tanh(emb.view(-1, 30) @ W1 + b1) # (32, 100)\n",
        "logits = h @ W2 + b2 # (32, 55)\n",
        "# to calculate cross-enthropy loss between the predicted logits and the labels (Ytr)\n",
        "loss = F.cross_entropy(logits, Ytr)\n",
        "# to print put the results\n",
        "loss"
      ],
      "metadata": {
        "colab": {
          "base_uri": "https://localhost:8080/"
        },
        "id": "rAV7G4G174lg",
        "outputId": "d3b03869-0bf5-4fd1-c5a9-6509cca1b45e"
      },
      "execution_count": 20,
      "outputs": [
        {
          "output_type": "execute_result",
          "data": {
            "text/plain": [
              "tensor(1.2643, grad_fn=<NllLossBackward0>)"
            ]
          },
          "metadata": {},
          "execution_count": 20
        }
      ]
    },
    {
      "cell_type": "code",
      "source": [
        "# validation loss\n",
        "# to calculate the validation loss using the same process as the training loss but with the validation dataset (Xdev, Ydev)\n",
        "emb = C[Xdev] # (32, 3, 2)\n",
        "h = torch.tanh(emb.view(-1, 30) @ W1 + b1) # (32, 100)\n",
        "logits = h @ W2 + b2 # (32, 55)\n",
        "loss = F.cross_entropy(logits, Ydev)\n",
        "# to print put the results\n",
        "loss"
      ],
      "metadata": {
        "colab": {
          "base_uri": "https://localhost:8080/"
        },
        "id": "ESgkNQkQ769E",
        "outputId": "211980bb-fd77-4906-cd6b-160cb01a29dc"
      },
      "execution_count": 21,
      "outputs": [
        {
          "output_type": "execute_result",
          "data": {
            "text/plain": [
              "tensor(5.1243, grad_fn=<NllLossBackward0>)"
            ]
          },
          "metadata": {},
          "execution_count": 21
        }
      ]
    },
    {
      "cell_type": "code",
      "source": [
        "# test loss\n",
        "# to calculate the test loss with the test dataset (Xte, Yte)\n",
        "emb = C[Xte] # (32, 3, 2)\n",
        "h = torch.tanh(emb.view(-1, 30) @ W1 + b1) # (32, 100)\n",
        "logits = h @ W2 + b2 # (32, 55)\n",
        "loss = F.cross_entropy(logits, Yte)\n",
        "# to print put the results\n",
        "loss"
      ],
      "metadata": {
        "colab": {
          "base_uri": "https://localhost:8080/"
        },
        "id": "HRYlP1TW785u",
        "outputId": "072ddc53-e92a-4159-c0c7-e8b529177b4a"
      },
      "execution_count": 22,
      "outputs": [
        {
          "output_type": "execute_result",
          "data": {
            "text/plain": [
              "tensor(4.6127, grad_fn=<NllLossBackward0>)"
            ]
          },
          "metadata": {},
          "execution_count": 22
        }
      ]
    },
    {
      "cell_type": "code",
      "source": [
        "# visualize dimensions 0 and 1 of the embedding matrix C for all characters\n",
        "plt.figure(figsize=(8,8)) # to create a new figure for the plot with size of 8x8 inches\n",
        "\n",
        "# to creates a scatter plot using the first and second dimensions of the embedding matrix C\n",
        "# where point in the scatter plot represents the embedding of a character\n",
        "# the s = 200 argument sets the size of each point to 200\n",
        "plt.scatter(C[:,0].data, C[:,1].data, s = 200)\n",
        "\n",
        "# the loop that iterates over each character embedding in the embedding matrix C\n",
        "for i in range(C.shape[0]):\n",
        "\n",
        "    # the annotatins to the scatter plot at the position of each character's embedding\n",
        "    plt.text(C[i,0].item(), C[i,1].item(), itos[i], ha=\"center\", va=\"center\", color='white')\n",
        "\n",
        "# to add a minor grid to the plot\n",
        "plt.grid('minor')"
      ],
      "metadata": {
        "colab": {
          "base_uri": "https://localhost:8080/",
          "height": 676
        },
        "id": "oVlcLUQR7-wf",
        "outputId": "383b1a95-c2e0-4635-fb78-f9ec60119cef"
      },
      "execution_count": 23,
      "outputs": [
        {
          "output_type": "display_data",
          "data": {
            "text/plain": [
              "<Figure size 800x800 with 1 Axes>"
            ],
            "image/png": "[encoded data removed]"
          },
          "metadata": {}
        }
      ]
    },
    {
      "cell_type": "code",
      "source": [
        "# Let's sample from the model:\n",
        "\n",
        "# to create a new random number generator with a specific seed (2147483647 + 10)\n",
        "# it will be used to ensure reproducibility in the sampling process\n",
        "g = torch.Generator().manual_seed(2147483647 + 10)\n",
        "\n",
        "# the loop that iterates 50 times to generate 50 text sequences\n",
        "for _ in range(50):\n",
        "\n",
        "    # to initialize an empty list to store the sampled text sequence\n",
        "    out = []\n",
        "    # to initialize the context with a list of zeros\n",
        "    context = [0] * block_size\n",
        "    # to start an infinite loop to sample text until a termination condition is met\n",
        "    while True:\n",
        "      # to retrieve the embeddings for the current context from the embedding matrix C\n",
        "      emb = C[torch.tensor([context])] # (1,block_size,d)\n",
        "      # to compute the activations of the HIDDEN layer neurons using the embeddings, weight W1, and bias b1\n",
        "      h = torch.tanh(emb.view(1, -1) @ W1 + b1)\n",
        "      # to calculate the logits by multiplying the HIDDEN layer activations with weight W2 and adding bias b2\n",
        "      logits = h @ W2 + b2\n",
        "      # to applie the softmax function along dimension 1 (rows) to convert the logits into probabilities\n",
        "      probs = F.softmax(logits, dim=1)\n",
        "      # to sample a single character (index) from the probability distribution defined by probs using the multinomial function to represent the next character in the sequence\n",
        "      ix = torch.multinomial(probs, num_samples=1, generator=g).item()\n",
        "      # to update the context by removing the first element and appending the sampled index to the end to prepare the context for the next iteration of sampling\n",
        "      context = context[1:] + [ix]\n",
        "      # to append the sampled index to the list of sampled indices\n",
        "      out.append(ix)\n",
        "      # the condition to check if the sampled index is the termination token (0) to stop the sampling process\n",
        "      if ix == 0:\n",
        "        break\n",
        "    # to print the sampled text sequence\n",
        "    # to convert the sampled indices (out) back into characters using the itos list and see the generated results :)\n",
        "    print(''.join(itos[i] for i in out))"
      ],
      "metadata": {
        "colab": {
          "base_uri": "https://localhost:8080/"
        },
        "id": "TZ_Eedn-8Bhh",
        "outputId": "da2ca2b0-27dc-4f03-c8ab-0c5c01c74e5a"
      },
      "execution_count": 24,
      "outputs": [
        {
          "output_type": "stream",
          "name": "stdout",
          "text": [
            "MrMoke.\n",
            "Hazel.\n",
            "Earwig.\n",
            "Hiro.\n",
            "Eddin.\n",
            "Beko.\n",
            "Michaelae.\n",
            "Treadna.\n",
            "Piglet.\n",
            "Elizard.\n",
            "Anna.\n",
            "Tuna.\n",
            "MsAmer.\n",
            "Smudger.\n",
            "Handa.\n",
            "Tyo.\n",
            "Jakey.\n",
            "Beanie.\n",
            "Cooter.\n",
            "Gregs.\n",
            "Johnny.\n",
            "Hayzel.\n",
            "Mails.\n",
            "Diesje.\n",
            "Stamforty.\n",
            "Zelly.\n",
            "Jups.\n",
            "Jacqueak.\n",
            "Kolbs.\n",
            "Fatt.\n",
            "Fup.\n",
            "Oliver.\n",
            "Peaf.\n",
            "SamSam.\n",
            "Calle.\n",
            "Obi.\n",
            "Dipper.\n",
            "Claudio.\n",
            "Lona.\n",
            "Tula.\n",
            "Brown.\n",
            "Sayd.\n",
            "Benry.\n",
            "Tifford.\n",
            "Puddin.\n",
            "Rozzie.\n",
            "Oaks.\n",
            "Beenie.\n",
            "Squit.\n",
            "Gunny.\n"
          ]
        }
      ]
    }
  ]
}