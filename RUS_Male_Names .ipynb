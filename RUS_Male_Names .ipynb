{
  "nbformat": 4,
  "nbformat_minor": 0,
  "metadata": {
    "colab": {
      "provenance": []
    },
    "kernelspec": {
      "name": "python3",
      "display_name": "Python 3"
    },
    "language_info": {
      "name": "python"
    }
  },
  "cells": [
    {
      "cell_type": "code",
      "execution_count": 1,
      "metadata": {
        "id": "MppSxLbbgDYc"
      },
      "outputs": [],
      "source": [
        "import torch # library to create multidimentional arrays\n",
        "import torch.nn.functional as F\n",
        "import matplotlib.pyplot as plt # to visualize plot\n",
        "%matplotlib inline"
      ]
    },
    {
      "cell_type": "code",
      "source": [
        "# download the names.txt file from github\n",
        "\n",
        "!wget https://raw.githubusercontent.com/Raven-SL/ru-pnames-list/master/lists/male_names_rus.txt"
      ],
      "metadata": {
        "colab": {
          "base_uri": "https://localhost:8080/"
        },
        "id": "_oJgsraQgGsX",
        "outputId": "e0b9e73c-2821-4a92-8a2f-313e45082008"
      },
      "execution_count": 2,
      "outputs": [
        {
          "output_type": "stream",
          "name": "stdout",
          "text": [
            "--2024-03-02 13:27:29--  https://raw.githubusercontent.com/Raven-SL/ru-pnames-list/master/lists/male_names_rus.txt\n",
            "Resolving raw.githubusercontent.com (raw.githubusercontent.com)... 185.199.108.133, 185.199.109.133, 185.199.110.133, ...\n",
            "Connecting to raw.githubusercontent.com (raw.githubusercontent.com)|185.199.108.133|:443... connected.\n",
            "HTTP request sent, awaiting response... 200 OK\n",
            "Length: 9829 (9.6K) [text/plain]\n",
            "Saving to: ‘male_names_rus.txt’\n",
            "\n",
            "male_names_rus.txt  100%[===================>]   9.60K  --.-KB/s    in 0s      \n",
            "\n",
            "2024-03-02 13:27:29 (60.6 MB/s) - ‘male_names_rus.txt’ saved [9829/9829]\n",
            "\n"
          ]
        }
      ]
    },
    {
      "cell_type": "markdown",
      "source": [
        "# a. Capitalized\n",
        "In this part of code, the vocabulary is created according to the dataset, where all the names start with uppercase character, followed by lowercase to train the model, avaluate its performance and generate new words."
      ],
      "metadata": {
        "id": "-zrjleUhgQP_"
      }
    },
    {
      "cell_type": "code",
      "source": [
        "words = open('male_names_rus.txt', 'r').read().splitlines()\n",
        "words[:8]"
      ],
      "metadata": {
        "colab": {
          "base_uri": "https://localhost:8080/"
        },
        "id": "_XOfcIbjgNk1",
        "outputId": "d110b3d8-aec6-44e2-cedb-4766468c888a"
      },
      "execution_count": 3,
      "outputs": [
        {
          "output_type": "execute_result",
          "data": {
            "text/plain": [
              "['Аарон',\n",
              " 'Аба',\n",
              " 'Аббас',\n",
              " 'Абд аль-Узза',\n",
              " 'Абдуллах',\n",
              " 'Абид',\n",
              " 'Аботур',\n",
              " 'Аввакум']"
            ]
          },
          "metadata": {},
          "execution_count": 3
        }
      ]
    },
    {
      "cell_type": "code",
      "source": [
        "len(words)"
      ],
      "metadata": {
        "colab": {
          "base_uri": "https://localhost:8080/"
        },
        "id": "qE-LAF8fgh-U",
        "outputId": "fcf02427-e263-43e0-d60f-442d9bdefbae"
      },
      "execution_count": 4,
      "outputs": [
        {
          "output_type": "execute_result",
          "data": {
            "text/plain": [
              "736"
            ]
          },
          "metadata": {},
          "execution_count": 4
        }
      ]
    },
    {
      "cell_type": "code",
      "source": [
        "# build the vocabulary of characters, uppercase and lowercase, as string to integers and viceversa:\n",
        "chars = sorted(list(set(''.join(words))))\n",
        "stoi = {s:i+1 for i,s in enumerate(chars)}\n",
        "stoi['.'] = 0\n",
        "itos = {i:s for s,i in stoi.items()}\n",
        "\n",
        "# to print the total number of the characters in vocalubary\n",
        "len(itos)"
      ],
      "metadata": {
        "colab": {
          "base_uri": "https://localhost:8080/"
        },
        "id": "_FgU_DlFgidm",
        "outputId": "2eea3541-8318-434d-afae-9adea23ff7c0"
      },
      "execution_count": 5,
      "outputs": [
        {
          "output_type": "execute_result",
          "data": {
            "text/plain": [
              "62"
            ]
          },
          "metadata": {},
          "execution_count": 5
        }
      ]
    },
    {
      "cell_type": "code",
      "source": [
        "# to build the dataset:\n",
        "\n",
        "# to define the context window: the number of characters to take to predict the next character\n",
        "block_size = 3\n",
        "\n",
        "# to define a function 'build_dataset' that takes a list of words as input\n",
        "def build_dataset(words):\n",
        "\n",
        "  # to start empty lists 'X' and 'Y' to store INPUT pairs\n",
        "  # 'X' is the INPUT into neural network, 'Y' is Label for each 'X'\n",
        "  X, Y = [], []\n",
        "\n",
        "  # to iterate through each word in the INPUT list words\n",
        "  for w in words:\n",
        "    # to start a padded context of 0 tokens with length equal to the block_size\n",
        "    context = [0] * block_size\n",
        "\n",
        "    # to iterate through each character in the word concatenated with a period (.) indicating the end of the word\n",
        "    for ch in w + '.': # iterate over all the characters\n",
        "\n",
        "      # to retrieves the index of the current character 'ch' from a dictionary 'stoi' that maps characters to their corresponding indices\n",
        "      # to get the characters in a sequence\n",
        "      ix = stoi[ch]\n",
        "\n",
        "      # to append the current context to the input list X\n",
        "      X.append(context)\n",
        "      # to append the index of the next character to the label list Y\n",
        "      Y.append(ix)\n",
        "      # to update the context by removing the first element and adding the index of the current character to the end,\n",
        "      # to create a rolling window of contexts\n",
        "      context = context[1:] + [ix]\n",
        "\n",
        "  # to convert the input list X into a PyTorch tensor\n",
        "  X = torch.tensor(X)\n",
        "  # to converts the input list Y into a PyTorch tensor\n",
        "  Y = torch.tensor(Y)\n",
        "\n",
        "  # to prints the shapes of X and Y tensors\n",
        "  print(X.shape, Y.shape)\n",
        "  # to return X and Y tensor as the output of the 'build_dataset' function\n",
        "  return X, Y\n",
        "\n",
        "# to import the 'random' module\n",
        "import random\n",
        "# to set the random seed to 42 for reproducibility\n",
        "random.seed(42)\n",
        "# to shuffle the list of words randomly\n",
        "random.shuffle(words)\n",
        "\n",
        "# to calculate the index n1, which corresponds to 80% of the total number of words\n",
        "n1 = int(0.8*len(words))\n",
        "# to calculate the index n2, which corresponds to 90% of the total number of words\n",
        "n2 = int(0.9*len(words))\n",
        "\n",
        "# to build the TRAINING dataset (Xtr, Ytr) using the first 80% of the shuffled words (n1)\n",
        "Xtr, Ytr = build_dataset(words[:n1])\n",
        "\n",
        "# to build the VALIDATION dataset (Xdev, Ydev) using the next 10% of the shuffled words (n2 - n1)\n",
        "Xdev, Ydev = build_dataset(words[n1:n2])\n",
        "\n",
        "# to bugild the TEST dataset (Xte, Yte) using the remaining 10% of the shuffled words (100% - n2)\n",
        "Xte, Yte = build_dataset(words[n2:])"
      ],
      "metadata": {
        "colab": {
          "base_uri": "https://localhost:8080/"
        },
        "id": "DSOF5Bwsgrps",
        "outputId": "7d56cba1-ed1d-47ae-9d70-ab22c836bcf5"
      },
      "execution_count": 13,
      "outputs": [
        {
          "output_type": "stream",
          "name": "stdout",
          "text": [
            "torch.Size([4211, 3]) torch.Size([4211])\n",
            "torch.Size([526, 3]) torch.Size([526])\n",
            "torch.Size([548, 3]) torch.Size([548])\n"
          ]
        }
      ]
    },
    {
      "cell_type": "code",
      "source": [
        "# to initialize parameters for a neural network model:\n",
        "\n",
        "# to create a random number generator for reproducibility\n",
        "g = torch.Generator().manual_seed(2147483647)\n",
        "\n",
        "# to build an INPUT layer, a random tensor C with dimensions (62, 10), where 62 is number of rows (characters in vocabulary) represented by a 10-dim embedding\n",
        "C = torch.randn((62, 10), generator=g)\n",
        "\n",
        "# to buld a second layer of random weight matrix W1 with dimensions (30, 200), where 30 neurons are in the HIDDEN layer,\n",
        "# and each neuron has 200 connections coming from the INPUT layer\n",
        "W1 = torch.randn((30, 200), generator=g)\n",
        "\n",
        "# to build random bias vector b1 with 200 elements associated with  200 neurons in the HIDDEN layer\n",
        "b1 = torch.randn(200, generator=g)\n",
        "\n",
        "# to build a randon weight matrix W2 with dimensions (200, 62) that connecting the HIDDEN layer to the OUTPUT layer\n",
        "W2 = torch.randn((200, 62), generator=g)\n",
        "\n",
        "# to build a random bias vector b2 with 62 elements associated with 62 neurons in the OUTPUT layer\n",
        "b2 = torch.randn(62, generator=g)\n",
        "\n",
        "# to collect all the parameters of the neural network model\n",
        "parameters = [C, W1, b1, W2, b2]"
      ],
      "metadata": {
        "id": "9yRjfoH3gwSW"
      },
      "execution_count": 15,
      "outputs": []
    },
    {
      "cell_type": "code",
      "source": [
        "# number of parameters in total\n",
        "sum(p.nelement() for p in parameters)"
      ],
      "metadata": {
        "colab": {
          "base_uri": "https://localhost:8080/"
        },
        "id": "q_oMPPETgkrQ",
        "outputId": "64dbc036-1b8f-42fc-d94f-ddf90407249c"
      },
      "execution_count": 16,
      "outputs": [
        {
          "output_type": "execute_result",
          "data": {
            "text/plain": [
              "19282"
            ]
          },
          "metadata": {},
          "execution_count": 16
        }
      ]
    },
    {
      "cell_type": "code",
      "source": [
        "# the loop that iterates over all parameters (C, W1, b1, W2, b2) and sets 'requires_grad' attribute to True.\n",
        "# to indicate that gradients should be computed for these parameters during backpropagation\n",
        "for p in parameters:\n",
        "  p.requires_grad = True"
      ],
      "metadata": {
        "id": "bW8HysMVg54q"
      },
      "execution_count": 17,
      "outputs": []
    },
    {
      "cell_type": "code",
      "source": [
        "# to initialize a learning rate\n",
        "lre = torch.linspace(-3, 0, 1000)\n",
        "lrs = 10**lre"
      ],
      "metadata": {
        "id": "9T4vOAKug_qY"
      },
      "execution_count": 18,
      "outputs": []
    },
    {
      "cell_type": "code",
      "source": [
        "# to create lists to track learning rate, loss, and step (iteration) during the model training\n",
        "lri = []\n",
        "lossi = []\n",
        "stepi = []"
      ],
      "metadata": {
        "id": "RFBNWPHIhBq2"
      },
      "execution_count": 11,
      "outputs": []
    },
    {
      "cell_type": "code",
      "source": [
        "# to train the model:\n",
        "\n",
        "for i in range(200000): # the loop that iterates over 200k training iterations\n",
        "\n",
        "  # to select randomly 32 indices from the training data (Xtr) for creating a minibatch\n",
        "  ix = torch.randint(0, Xtr.shape[0], (32,))\n",
        "\n",
        "  # forward pass:\n",
        "  # to look up embeddings from the matrix C based on the randomly selected indices from the training data (Xtr)\n",
        "  # to create a tensor of shape (32, 3, 2)\n",
        "  emb = C[Xtr[ix]] # (32, 3, 2)\n",
        "\n",
        "  # to compute the HIDDEN layer activations using the embeddings, weight matrix W1, and bias vector b1\n",
        "  # to appliy the tanh function\n",
        "  h = torch.tanh(emb.view(-1, 30) @ W1 + b1) # (32, 100)\n",
        "\n",
        "  # to compute the logits (output of the neural network before applying softmax)\n",
        "  # to multiply the HIDDEN layer with weight W2 and adding bias b2\n",
        "  logits = h @ W2 + b2 # (32, 62)\n",
        "\n",
        "  # to compute the cross-entropy loss between the predicted logits and the true labels (Ytr)\n",
        "  # it uses built-in cross_entropy function\n",
        "  loss = F.cross_entropy(logits, Ytr[ix])\n",
        "\n",
        "  # backward pass:\n",
        "  # the loop resets the gradients of all parameters to None before computing gradients for the current minibatch\n",
        "  for p in parameters:\n",
        "    p.grad = None\n",
        "\n",
        "  # to compute gradients of the loss using backpropagation\n",
        "  loss.backward()\n",
        "\n",
        "  # to adjust the learning rate setting the higher lr of 0.1 for the first 100k iterations\n",
        "  # and lower lr of 0.01 for the remaining iterations\n",
        "  lr = 0.1 if i < 100000 else 0.01\n",
        "\n",
        "  # the loop to update parameters with gradients and the learning rate\n",
        "  for p in parameters:\n",
        "    p.data += -lr * p.grad\n",
        "\n",
        "  # track stats\n",
        "  # to append the current iteration number to the list 'stepi'\n",
        "  stepi.append(i)\n",
        "\n",
        "  # to append the logarithm (base 10) of the loss to the list 'lossi'\n",
        "  lossi.append(loss.log10().item())"
      ],
      "metadata": {
        "id": "hO-Ai3sPhEU8"
      },
      "execution_count": 19,
      "outputs": []
    },
    {
      "cell_type": "code",
      "source": [
        "# to print out the loss value obtained after the last training iteration (how well the model works)\n",
        "print(loss.item())"
      ],
      "metadata": {
        "colab": {
          "base_uri": "https://localhost:8080/"
        },
        "id": "fff9eLoqhIYP",
        "outputId": "b0c9cbfe-64c3-440a-ec6f-b6d2d98a4bfc"
      },
      "execution_count": 20,
      "outputs": [
        {
          "output_type": "stream",
          "name": "stdout",
          "text": [
            "1.111713171005249\n"
          ]
        }
      ]
    },
    {
      "cell_type": "code",
      "source": [
        "# to plot the training loss over the course of training\n",
        "# where 'stepi' is the iteration numbers and 'lossi' is the corresponding loss values\n",
        "plt.plot(stepi, lossi)"
      ],
      "metadata": {
        "colab": {
          "base_uri": "https://localhost:8080/",
          "height": 448
        },
        "id": "6nHp60pHhK1i",
        "outputId": "6cbabd51-9c0a-41cc-cf6a-8c01bd875e31"
      },
      "execution_count": 21,
      "outputs": [
        {
          "output_type": "execute_result",
          "data": {
            "text/plain": [
              "[<matplotlib.lines.Line2D at 0x79c4eda4a530>]"
            ]
          },
          "metadata": {},
          "execution_count": 21
        },
        {
          "output_type": "display_data",
          "data": {
            "text/plain": [
              "<Figure size 640x480 with 1 Axes>"
            ],
            "image/png": "[encoded data removed]"
          },
          "metadata": {}
        }
      ]
    },
    {
      "cell_type": "code",
      "source": [
        "# training loss\n",
        "# to calculate ther trainnig loss by retrieving the embeddings for the training examples (Xtr) from the embedding matrix C\n",
        "emb = C[Xtr] # (32, 3, 2)\n",
        "h = torch.tanh(emb.view(-1, 30) @ W1 + b1) # (32, 100)\n",
        "logits = h @ W2 + b2 # (32, 62)\n",
        "# to calculate cross-enthropy loss between the predicted logits and the labels (Ytr)\n",
        "loss = F.cross_entropy(logits, Ytr)\n",
        "# to print put the results\n",
        "loss"
      ],
      "metadata": {
        "colab": {
          "base_uri": "https://localhost:8080/"
        },
        "id": "OHEXr7ZRhNeJ",
        "outputId": "89bd8318-ed35-49ab-ce05-0bb3a114522c"
      },
      "execution_count": 22,
      "outputs": [
        {
          "output_type": "execute_result",
          "data": {
            "text/plain": [
              "tensor(1.0715, grad_fn=<NllLossBackward0>)"
            ]
          },
          "metadata": {},
          "execution_count": 22
        }
      ]
    },
    {
      "cell_type": "code",
      "source": [
        "# validation loss\n",
        "# to calculate the validation loss using the same process as the training loss but with the validation dataset (Xdev, Ydev)\n",
        "emb = C[Xdev] # (32, 3, 2)\n",
        "h = torch.tanh(emb.view(-1, 30) @ W1 + b1) # (32, 100)\n",
        "logits = h @ W2 + b2 # (32, 62)\n",
        "loss = F.cross_entropy(logits, Ydev)\n",
        "# to print put the results\n",
        "loss"
      ],
      "metadata": {
        "colab": {
          "base_uri": "https://localhost:8080/"
        },
        "id": "DNgkFCUihQFv",
        "outputId": "b77572e0-149f-4b8a-ca3f-bfe34f2e9b9b"
      },
      "execution_count": 23,
      "outputs": [
        {
          "output_type": "execute_result",
          "data": {
            "text/plain": [
              "tensor(5.8346, grad_fn=<NllLossBackward0>)"
            ]
          },
          "metadata": {},
          "execution_count": 23
        }
      ]
    },
    {
      "cell_type": "code",
      "source": [
        "# test loss\n",
        "# to calculate the test loss with the test dataset (Xte, Yte)\n",
        "emb = C[Xte] # (32, 3, 2)\n",
        "h = torch.tanh(emb.view(-1, 30) @ W1 + b1) # (32, 100)\n",
        "logits = h @ W2 + b2 # (32, 62)\n",
        "loss = F.cross_entropy(logits, Yte)\n",
        "# to print put the results\n",
        "loss"
      ],
      "metadata": {
        "colab": {
          "base_uri": "https://localhost:8080/"
        },
        "id": "RqtQd5E4hRzf",
        "outputId": "76b06ede-6518-4480-c16a-8ac3ef9d50ef"
      },
      "execution_count": 24,
      "outputs": [
        {
          "output_type": "execute_result",
          "data": {
            "text/plain": [
              "tensor(5.7648, grad_fn=<NllLossBackward0>)"
            ]
          },
          "metadata": {},
          "execution_count": 24
        }
      ]
    },
    {
      "cell_type": "code",
      "source": [
        "# visualize dimensions 0 and 1 of the embedding matrix C for all characters\n",
        "plt.figure(figsize=(8,8)) # to create a new figure for the plot with size of 8x8 inches\n",
        "\n",
        "# to creates a scatter plot using the first and second dimensions of the embedding matrix C\n",
        "# where point in the scatter plot represents the embedding of a character\n",
        "# the s = 200 argument sets the size of each point to 200\n",
        "plt.scatter(C[:,0].data, C[:,1].data, s = 200)\n",
        "\n",
        "# the loop that iterates over each character embedding in the embedding matrix C\n",
        "for i in range(C.shape[0]):\n",
        "\n",
        "    # the annotatins to the scatter plot at the position of each character's embedding\n",
        "    plt.text(C[i,0].item(), C[i,1].item(), itos[i], ha=\"center\", va=\"center\", color='white')\n",
        "\n",
        "# to add a minor grid to the plot\n",
        "plt.grid('minor')"
      ],
      "metadata": {
        "colab": {
          "base_uri": "https://localhost:8080/",
          "height": 678
        },
        "id": "D8Rb7P4shUED",
        "outputId": "a6092c73-1ac5-445c-9d8e-4a4e01aac7cb"
      },
      "execution_count": 25,
      "outputs": [
        {
          "output_type": "display_data",
          "data": {
            "text/plain": [
              "<Figure size 800x800 with 1 Axes>"
            ],
            "image/png": "[encoded data removed]"
          },
          "metadata": {}
        }
      ]
    },
    {
      "cell_type": "code",
      "source": [
        "# Let's sample from the model:\n",
        "\n",
        "# to create a new random number generator with a specific seed (2147483647 + 10)\n",
        "# it will be used to ensure reproducibility in the sampling process\n",
        "g = torch.Generator().manual_seed(2147483647 + 10)\n",
        "\n",
        "# the loop that iterates 50 times to generate 50 text sequences\n",
        "for _ in range(50):\n",
        "\n",
        "    # to initialize an empty list to store the sampled text sequence\n",
        "    out = []\n",
        "    # to initialize the context with a list of zeros\n",
        "    context = [0] * block_size\n",
        "    # to start an infinite loop to sample text until a termination condition is met\n",
        "    while True:\n",
        "      # to retrieve the embeddings for the current context from the embedding matrix C\n",
        "      emb = C[torch.tensor([context])] # (1,block_size,d)\n",
        "      # to compute the activations of the HIDDEN layer neurons using the embeddings, weight W1, and bias b1\n",
        "      h = torch.tanh(emb.view(1, -1) @ W1 + b1)\n",
        "      # to calculate the logits by multiplying the HIDDEN layer activations with weight W2 and adding bias b2\n",
        "      logits = h @ W2 + b2\n",
        "      # to applie the softmax function along dimension 1 (rows) to convert the logits into probabilities\n",
        "      probs = F.softmax(logits, dim=1)\n",
        "      # to sample a single character (index) from the probability distribution defined by probs using the multinomial function to represent the next character in the sequence\n",
        "      ix = torch.multinomial(probs, num_samples=1, generator=g).item()\n",
        "      # to update the context by removing the first element and appending the sampled index to the end to prepare the context for the next iteration of sampling\n",
        "      context = context[1:] + [ix]\n",
        "      # to append the sampled index to the list of sampled indices\n",
        "      out.append(ix)\n",
        "      # the condition to check if the sampled index is the termination token (0) to stop the sampling process\n",
        "      if ix == 0:\n",
        "        break\n",
        "    # to print the sampled text sequence\n",
        "    # to convert the sampled indices (out) back into characters using the itos list and see the generated results :)\n",
        "    print(''.join(itos[i] for i in out))"
      ],
      "metadata": {
        "colab": {
          "base_uri": "https://localhost:8080/"
        },
        "id": "wHz0fQ7jhWLJ",
        "outputId": "39032ce4-70a4-4a6a-8ef3-e3e00ca6690b"
      },
      "execution_count": 26,
      "outputs": [
        {
          "output_type": "stream",
          "name": "stdout",
          "text": [
            "Клаас.\n",
            "Коррад.\n",
            "Волом.\n",
            "Герапит.\n",
            "Карей.\n",
            "Дорофаниэль.\n",
            "Адар.\n",
            "Евтихий.\n",
            "Паруйр.\n",
            "Андр.\n",
            "Павсикантин.\n",
            "Натаниэль.\n",
            "Дитрий.\n",
            "Шон.\n",
            "Авдей.\n",
            "Мамбет.\n",
            "Терри.\n",
            "Герасир.\n",
            "Джейкоб.\n",
            "Донам.\n",
            "Эмиль.\n",
            "Борин.\n",
            "Людовик.\n",
            "Тихомин.\n",
            "Урызмаг.\n",
            "Полиевкт.\n",
            "Юстасий.\n",
            "Пётр.\n",
            "Марион.\n",
            "Наил.\n",
            "Рон.\n",
            "Владий.\n",
            "Павлин.\n",
            "Афиф.\n",
            "Геромир.\n",
            "Илладар.\n",
            "Ашот.\n",
            "Иоганн.\n",
            "Сапион.\n",
            "Гурий.\n",
            "Генри.\n",
            "Эстеберт.\n",
            "Ананий.\n",
            "Радосей.\n",
            "Андокид.\n",
            "Сигеберт.\n",
            "Гай.\n",
            "Автон.\n",
            "Айрат.\n",
            "Хирам.\n"
          ]
        }
      ]
    },
    {
      "cell_type": "markdown",
      "source": [
        "# b. Non-capitalized\n",
        "In this part of code, the same dataset of male names is lowercased to see the difference between performance of the model that is trained on capitalized dataset and the model that is trained on non-capitalized dataset."
      ],
      "metadata": {
        "id": "Bw_EcQDfhZSv"
      }
    },
    {
      "cell_type": "code",
      "source": [
        "# to open and read the file, turn all characters lowercase, and split the string into list:\n",
        "words = open('male_names_rus.txt', 'r').read().lower().splitlines()\n",
        "\n",
        "# print out first 8 words\n",
        "words[:8]"
      ],
      "metadata": {
        "colab": {
          "base_uri": "https://localhost:8080/"
        },
        "id": "MaXRuf6Chdqw",
        "outputId": "157b9534-fc83-4fb3-b515-8dde191afee0"
      },
      "execution_count": 27,
      "outputs": [
        {
          "output_type": "execute_result",
          "data": {
            "text/plain": [
              "['аарон',\n",
              " 'аба',\n",
              " 'аббас',\n",
              " 'абд аль-узза',\n",
              " 'абдуллах',\n",
              " 'абид',\n",
              " 'аботур',\n",
              " 'аввакум']"
            ]
          },
          "metadata": {},
          "execution_count": 27
        }
      ]
    },
    {
      "cell_type": "code",
      "source": [
        "# build the vocabulary of characters as a string to integers and viceversa:\n",
        "chars = sorted(list(set(''.join(words))))\n",
        "stoi = {s:i+1 for i,s in enumerate(chars)}\n",
        "stoi['.'] = 0\n",
        "itos = {i:s for s,i in stoi.items()}\n",
        "\n",
        "# to print the total number of the characters in vocalubary\n",
        "len(itos)"
      ],
      "metadata": {
        "colab": {
          "base_uri": "https://localhost:8080/"
        },
        "id": "pLZyN5V5YqUo",
        "outputId": "dd9b5f6d-8684-4728-9e60-375e6a804185"
      },
      "execution_count": 28,
      "outputs": [
        {
          "output_type": "execute_result",
          "data": {
            "text/plain": [
              "34"
            ]
          },
          "metadata": {},
          "execution_count": 28
        }
      ]
    },
    {
      "cell_type": "code",
      "source": [
        "# to build the dataset:\n",
        "\n",
        "# to define the context window: the number of characters to take to predict the next character\n",
        "block_size = 3\n",
        "\n",
        "# to define a function 'build_dataset' that takes a list of words as input\n",
        "def build_dataset(words):\n",
        "\n",
        "  # to start empty lists 'X' and 'Y' to store INPUT pairs\n",
        "  # 'X' is the INPUT into neural network, 'Y' is Label for each 'X'\n",
        "  X, Y = [], []\n",
        "\n",
        "  # to iterate through each word in the INPUT list words\n",
        "  for w in words:\n",
        "    # to start a padded context of 0 tokens with length equal to the block_size\n",
        "    context = [0] * block_size\n",
        "\n",
        "    # to iterate through each character in the word concatenated with a period (.) indicating the end of the word\n",
        "    for ch in w + '.': # iterate over all the characters\n",
        "\n",
        "      # to retrieves the index of the current character 'ch' from a dictionary 'stoi' that maps characters to their corresponding indices\n",
        "      # to get the characters in a sequence\n",
        "      ix = stoi[ch]\n",
        "\n",
        "      # to append the current context to the input list X\n",
        "      X.append(context)\n",
        "      # to append the index of the next character to the label list Y\n",
        "      Y.append(ix)\n",
        "      # to update the context by removing the first element and adding the index of the current character to the end,\n",
        "      # to create a rolling window of contexts\n",
        "      context = context[1:] + [ix]\n",
        "\n",
        "  # to convert the input list X into a PyTorch tensor\n",
        "  X = torch.tensor(X)\n",
        "  # to converts the input list Y into a PyTorch tensor\n",
        "  Y = torch.tensor(Y)\n",
        "\n",
        "  # to prints the shapes of X and Y tensors\n",
        "  print(X.shape, Y.shape)\n",
        "  # to return X and Y tensor as the output of the 'build_dataset' function\n",
        "  return X, Y\n",
        "\n",
        "# to import the 'random' module\n",
        "import random\n",
        "# to set the random seed to 42 for reproducibility\n",
        "random.seed(42)\n",
        "# to shuffle the list of words randomly\n",
        "random.shuffle(words)\n",
        "\n",
        "# to calculate the index n1, which corresponds to 80% of the total number of words\n",
        "n1 = int(0.8*len(words))\n",
        "# to calculate the index n2, which corresponds to 90% of the total number of words\n",
        "n2 = int(0.9*len(words))\n",
        "\n",
        "# to build the TRAINING dataset (Xtr, Ytr) using the first 80% of the shuffled words (n1)\n",
        "Xtr, Ytr = build_dataset(words[:n1])\n",
        "\n",
        "# to build the VALIDATION dataset (Xdev, Ydev) using the next 10% of the shuffled words (n2 - n1)\n",
        "Xdev, Ydev = build_dataset(words[n1:n2])\n",
        "\n",
        "# to bugild the TEST dataset (Xte, Yte) using the remaining 10% of the shuffled words (100% - n2)\n",
        "Xte, Yte = build_dataset(words[n2:])"
      ],
      "metadata": {
        "colab": {
          "base_uri": "https://localhost:8080/"
        },
        "id": "enl9W_e0Y3xa",
        "outputId": "8acfff60-650e-41c5-f3c8-c0c68cbfa6d1"
      },
      "execution_count": 29,
      "outputs": [
        {
          "output_type": "stream",
          "name": "stdout",
          "text": [
            "torch.Size([4206, 3]) torch.Size([4206])\n",
            "torch.Size([550, 3]) torch.Size([550])\n",
            "torch.Size([529, 3]) torch.Size([529])\n"
          ]
        }
      ]
    },
    {
      "cell_type": "code",
      "source": [
        "# to initialize parameters for a neural network model:\n",
        "\n",
        "# to create a random number generator for reproducibility\n",
        "g = torch.Generator().manual_seed(2147483647)\n",
        "\n",
        "# to build an INPUT layer, a random tensor C with dimensions (34, 10), where 34 is number of rows (characters in vocabulary) represented by a 10-dim embedding\n",
        "C = torch.randn((34, 10), generator=g)\n",
        "\n",
        "# to buld a second layer of random weight matrix W1 with dimensions (30, 200), where 30 neurons are in the HIDDEN layer,\n",
        "# and each neuron has 200 connections coming from the INPUT layer\n",
        "W1 = torch.randn((30, 200), generator=g)\n",
        "\n",
        "# to build random bias vector b1 with 200 elements associated with  200 neurons in the HIDDEN layer\n",
        "b1 = torch.randn(200, generator=g)\n",
        "\n",
        "# to build a randon weight matrix W2 with dimensions (200, 34) that connecting the HIDDEN layer to the OUTPUT layer\n",
        "W2 = torch.randn((200, 34), generator=g)\n",
        "\n",
        "# to build a random bias vector b2 with 34 elements associated with 34 neurons in the OUTPUT layer\n",
        "b2 = torch.randn(34, generator=g)\n",
        "\n",
        "# to collect all the parameters of the neural network model\n",
        "parameters = [C, W1, b1, W2, b2]"
      ],
      "metadata": {
        "id": "tAJWSGgDnSPQ"
      },
      "execution_count": 30,
      "outputs": []
    },
    {
      "cell_type": "code",
      "source": [
        "# number of parameters in total\n",
        "sum(p.nelement() for p in parameters)"
      ],
      "metadata": {
        "colab": {
          "base_uri": "https://localhost:8080/"
        },
        "id": "z1c-Y4G3nZNn",
        "outputId": "4554a483-a385-4508-f44c-a4c9e0eba376"
      },
      "execution_count": 31,
      "outputs": [
        {
          "output_type": "execute_result",
          "data": {
            "text/plain": [
              "13374"
            ]
          },
          "metadata": {},
          "execution_count": 31
        }
      ]
    },
    {
      "cell_type": "code",
      "source": [
        "# the loop that iterates over all parameters (C, W1, b1, W2, b2) and sets 'requires_grad' attribute to True.\n",
        "# to indicate that gradients should be computed for these parameters during backpropagation\n",
        "for p in parameters:\n",
        "  p.requires_grad = True"
      ],
      "metadata": {
        "id": "QErcW-rOndcR"
      },
      "execution_count": 32,
      "outputs": []
    },
    {
      "cell_type": "code",
      "source": [
        "# to initialize a learning rate\n",
        "lre = torch.linspace(-3, 0, 1000)\n",
        "lrs = 10**lre"
      ],
      "metadata": {
        "id": "2zohIXedng2N"
      },
      "execution_count": 33,
      "outputs": []
    },
    {
      "cell_type": "code",
      "source": [
        "lri = []\n",
        "lossi = []\n",
        "stepi = []"
      ],
      "metadata": {
        "id": "J-6rD0N-nj2A"
      },
      "execution_count": 34,
      "outputs": []
    },
    {
      "cell_type": "code",
      "source": [
        "# to train the model:\n",
        "\n",
        "for i in range(200000): # the loop that iterates over 200k training iterations\n",
        "\n",
        "  # to select randomly 32 indices from the training data (Xtr) for creating a minibatch\n",
        "  ix = torch.randint(0, Xtr.shape[0], (32,))\n",
        "\n",
        "  # forward pass:\n",
        "  # to look up embeddings from the matrix C based on the randomly selected indices from the training data (Xtr)\n",
        "  # to create a tensor of shape (32, 3, 2)\n",
        "  emb = C[Xtr[ix]] # (32, 3, 2)\n",
        "\n",
        "  # to compute the HIDDEN layer activations using the embeddings, weight matrix W1, and bias vector b1\n",
        "  # to appliy the tanh function\n",
        "  h = torch.tanh(emb.view(-1, 30) @ W1 + b1) # (32, 100)\n",
        "\n",
        "  # to compute the logits (output of the neural network before applying softmax)\n",
        "  # to multiply the HIDDEN layer with weight W2 and adding bias b2\n",
        "  logits = h @ W2 + b2 # (32, 34)\n",
        "\n",
        "  # to compute the cross-entropy loss between the predicted logits and the true labels (Ytr)\n",
        "  # it uses built-in cross_entropy function\n",
        "  loss = F.cross_entropy(logits, Ytr[ix])\n",
        "\n",
        "  # backward pass:\n",
        "  # the loop resets the gradients of all parameters to None before computing gradients for the current minibatch\n",
        "  for p in parameters:\n",
        "    p.grad = None\n",
        "\n",
        "  # to compute gradients of the loss using backpropagation\n",
        "  loss.backward()\n",
        "\n",
        "  # to adjust the learning rate setting the higher lr of 0.1 for the first 100k iterations\n",
        "  # and lower lr of 0.01 for the remaining iterations\n",
        "  lr = 0.1 if i < 100000 else 0.01\n",
        "\n",
        "  # the loop to update parameters with gradients and the learning rate\n",
        "  for p in parameters:\n",
        "    p.data += -lr * p.grad\n",
        "\n",
        "  # track stats\n",
        "  # to append the current iteration number to the list 'stepi'\n",
        "  stepi.append(i)\n",
        "\n",
        "  # to append the logarithm (base 10) of the loss to the list 'lossi'\n",
        "  lossi.append(loss.log10().item())"
      ],
      "metadata": {
        "id": "FcGza85fnmEO"
      },
      "execution_count": 35,
      "outputs": []
    },
    {
      "cell_type": "code",
      "source": [
        "# to print out the loss value obtained after the last training iteration (how well the model works)\n",
        "print(loss.item())"
      ],
      "metadata": {
        "colab": {
          "base_uri": "https://localhost:8080/"
        },
        "id": "1NU8LMcrnpSx",
        "outputId": "0dc63f33-d315-4a50-b57f-f22a3751ef61"
      },
      "execution_count": 36,
      "outputs": [
        {
          "output_type": "stream",
          "name": "stdout",
          "text": [
            "1.3356733322143555\n"
          ]
        }
      ]
    },
    {
      "cell_type": "code",
      "source": [
        "# to plot the training loss over the course of training\n",
        "# where 'stepi' is the iteration numbers and 'lossi' is the corresponding loss values\n",
        "plt.plot(stepi, lossi)"
      ],
      "metadata": {
        "colab": {
          "base_uri": "https://localhost:8080/",
          "height": 448
        },
        "id": "Z_j_gTwIZ3t7",
        "outputId": "270de1af-8682-40b3-ef7f-4d76c4d24233"
      },
      "execution_count": 37,
      "outputs": [
        {
          "output_type": "execute_result",
          "data": {
            "text/plain": [
              "[<matplotlib.lines.Line2D at 0x79c4ee3a1630>]"
            ]
          },
          "metadata": {},
          "execution_count": 37
        },
        {
          "output_type": "display_data",
          "data": {
            "text/plain": [
              "<Figure size 640x480 with 1 Axes>"
            ],
            "image/png": "[encoded data removed]"
          },
          "metadata": {}
        }
      ]
    },
    {
      "cell_type": "code",
      "source": [
        "# training loss\n",
        "# to calculate ther trainnig loss by retrieving the embeddings for the training examples (Xtr) from the embedding matrix C\n",
        "emb = C[Xtr] # (32, 3, 2)\n",
        "h = torch.tanh(emb.view(-1, 30) @ W1 + b1) # (32, 100)\n",
        "logits = h @ W2 + b2 # (32, 34)\n",
        "# to calculate cross-enthropy loss between the predicted logits and the labels (Ytr)\n",
        "loss = F.cross_entropy(logits, Ytr)\n",
        "# to print put the results\n",
        "loss"
      ],
      "metadata": {
        "colab": {
          "base_uri": "https://localhost:8080/"
        },
        "id": "MSvLEXm6nstV",
        "outputId": "58a21e3d-2fde-4763-ee6e-f9ee88ed1ba9"
      },
      "execution_count": 38,
      "outputs": [
        {
          "output_type": "execute_result",
          "data": {
            "text/plain": [
              "tensor(1.1585, grad_fn=<NllLossBackward0>)"
            ]
          },
          "metadata": {},
          "execution_count": 38
        }
      ]
    },
    {
      "cell_type": "code",
      "source": [
        "# validation loss\n",
        "# to calculate the validation loss using the same process as the training loss but with the validation dataset (Xdev, Ydev)\n",
        "emb = C[Xdev] # (32, 3, 2)\n",
        "h = torch.tanh(emb.view(-1, 30) @ W1 + b1) # (32, 100)\n",
        "logits = h @ W2 + b2 # (32, 34)\n",
        "loss = F.cross_entropy(logits, Ydev)\n",
        "# to print put the results\n",
        "loss"
      ],
      "metadata": {
        "colab": {
          "base_uri": "https://localhost:8080/"
        },
        "id": "Bw0oL49envNG",
        "outputId": "bfe39181-4d2e-4f53-dbcd-6546b4603e4e"
      },
      "execution_count": 39,
      "outputs": [
        {
          "output_type": "execute_result",
          "data": {
            "text/plain": [
              "tensor(6.3454, grad_fn=<NllLossBackward0>)"
            ]
          },
          "metadata": {},
          "execution_count": 39
        }
      ]
    },
    {
      "cell_type": "code",
      "source": [
        "# test loss\n",
        "# to calculate the test loss with the test dataset (Xte, Yte)\n",
        "emb = C[Xte] # (32, 3, 2)\n",
        "h = torch.tanh(emb.view(-1, 30) @ W1 + b1) # (32, 100)\n",
        "logits = h @ W2 + b2 # (32, 34)\n",
        "loss = F.cross_entropy(logits, Yte)\n",
        "# to print put the results\n",
        "loss"
      ],
      "metadata": {
        "colab": {
          "base_uri": "https://localhost:8080/"
        },
        "id": "xh0NC7ornx6R",
        "outputId": "f1b4f694-869f-48ee-fa27-0b82514d9d21"
      },
      "execution_count": 40,
      "outputs": [
        {
          "output_type": "execute_result",
          "data": {
            "text/plain": [
              "tensor(6.0265, grad_fn=<NllLossBackward0>)"
            ]
          },
          "metadata": {},
          "execution_count": 40
        }
      ]
    },
    {
      "cell_type": "code",
      "source": [
        "# visualize dimensions 0 and 1 of the embedding matrix C for all characters\n",
        "plt.figure(figsize=(8,8)) # to create a new figure for the plot with size of 8x8 inches\n",
        "\n",
        "# to creates a scatter plot using the first and second dimensions of the embedding matrix C\n",
        "# where point in the scatter plot represents the embedding of a character\n",
        "# the s = 200 argument sets the size of each point to 200\n",
        "plt.scatter(C[:,0].data, C[:,1].data, s = 200)\n",
        "\n",
        "# the loop that iterates over each character embedding in the embedding matrix C\n",
        "for i in range(C.shape[0]):\n",
        "\n",
        "    # the annotatins to the scatter plot at the position of each character's embedding\n",
        "    plt.text(C[i,0].item(), C[i,1].item(), itos[i], ha=\"center\", va=\"center\", color='white')\n",
        "\n",
        "# to add a minor grid to the plot\n",
        "plt.grid('minor')"
      ],
      "metadata": {
        "colab": {
          "base_uri": "https://localhost:8080/",
          "height": 676
        },
        "id": "CbO7-twQn2E4",
        "outputId": "9b9818f0-e962-4913-d81f-203c70fca331"
      },
      "execution_count": 41,
      "outputs": [
        {
          "output_type": "display_data",
          "data": {
            "text/plain": [
              "<Figure size 800x800 with 1 Axes>"
            ],
            "image/png": "[encoded data removed]"
          },
          "metadata": {}
        }
      ]
    },
    {
      "cell_type": "code",
      "source": [
        "# Let's sample from the model:\n",
        "\n",
        "# to create a new random number generator with a specific seed (2147483647 + 10)\n",
        "# it will be used to ensure reproducibility in the sampling process\n",
        "g = torch.Generator().manual_seed(2147483647 + 10)\n",
        "\n",
        "# the loop that iterates 50 times to generate 50 text sequences\n",
        "for _ in range(50):\n",
        "\n",
        "    # to initialize an empty list to store the sampled text sequence\n",
        "    out = []\n",
        "    # to initialize the context with a list of zeros\n",
        "    context = [0] * block_size\n",
        "    # to start an infinite loop to sample text until a termination condition is met\n",
        "    while True:\n",
        "      # to retrieve the embeddings for the current context from the embedding matrix C\n",
        "      emb = C[torch.tensor([context])] # (1,block_size,d)\n",
        "      # to compute the activations of the HIDDEN layer neurons using the embeddings, weight W1, and bias b1\n",
        "      h = torch.tanh(emb.view(1, -1) @ W1 + b1)\n",
        "      # to calculate the logits by multiplying the HIDDEN layer activations with weight W2 and adding bias b2\n",
        "      logits = h @ W2 + b2\n",
        "      # to applie the softmax function along dimension 1 (rows) to convert the logits into probabilities\n",
        "      probs = F.softmax(logits, dim=1)\n",
        "      # to sample a single character (index) from the probability distribution defined by probs using the multinomial function to represent the next character in the sequence\n",
        "      ix = torch.multinomial(probs, num_samples=1, generator=g).item()\n",
        "      # to update the context by removing the first element and appending the sampled index to the end to prepare the context for the next iteration of sampling\n",
        "      context = context[1:] + [ix]\n",
        "      # to append the sampled index to the list of sampled indices\n",
        "      out.append(ix)\n",
        "      # the condition to check if the sampled index is the termination token (0) to stop the sampling process\n",
        "      if ix == 0:\n",
        "        break\n",
        "    # to print the sampled text sequence\n",
        "    # to convert the sampled indices (out) back into characters using the itos list and see the generated results :)\n",
        "    print(''.join(itos[i] for i in out))"
      ],
      "metadata": {
        "colab": {
          "base_uri": "https://localhost:8080/"
        },
        "id": "DnlBXi1Hn4TP",
        "outputId": "4a9715aa-3b47-41ab-eea8-c56c195e9597"
      },
      "execution_count": 42,
      "outputs": [
        {
          "output_type": "stream",
          "name": "stdout",
          "text": [
            "конс.\n",
            "дар.\n",
            "борив.\n",
            "клаас.\n",
            "кадвалентий.\n",
            "басий.\n",
            "мордехай.\n",
            "евдоким.\n",
            "виталишерон.\n",
            "харри.\n",
            "стасий.\n",
            "валлюстислав.\n",
            "еренц.\n",
            "саллюстантоном.\n",
            "атанит.\n",
            "геласир.\n",
            "дональвестислав.\n",
            "рамазарий.\n",
            "лазарио.\n",
            "тендзин.\n",
            "уман.\n",
            "азат.\n",
            "улдис.\n",
            "модестофор.\n",
            "олик.\n",
            "мефодорж.\n",
            "артур.\n",
            "евриил.\n",
            "амфилий.\n",
            "мэлор.\n",
            "никий.\n",
            "матет.\n",
            "эрас.\n",
            "солод.\n",
            "вито.\n",
            "кас.\n",
            "гейдар.\n",
            "бурхард.\n",
            "абид.\n",
            "олег.\n",
            "ахим.\n",
            "стефанор.\n",
            "илат.\n",
            "сон.\n",
            "стислав.\n",
            "безсон.\n",
            "айдар.\n",
            "радислам.\n",
            "адан.\n",
            "анг.\n"
          ]
        }
      ]
    }
  ]
}